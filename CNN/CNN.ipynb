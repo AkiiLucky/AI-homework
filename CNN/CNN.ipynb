{
 "cells": [
  {
   "cell_type": "code",
   "execution_count": 1,
   "metadata": {},
   "outputs": [],
   "source": [
    "import numpy as np\n",
    "import torch \n",
    "import torchvision\n",
    "import torchvision.transforms as transforms\n",
    "from torch.utils.data import DataLoader\n",
    "import torch.nn.functional as F\n",
    "import torch.optim as optim\n",
    "from torch import nn\n",
    "import numpy as np\n",
    "import matplotlib.pyplot as plt\n",
    "%matplotlib inline\n",
    "from sklearn import metrics"
   ]
  },
  {
   "cell_type": "markdown",
   "metadata": {},
   "source": [
    "## 定义超参数"
   ]
  },
  {
   "cell_type": "code",
   "execution_count": 578,
   "metadata": {},
   "outputs": [],
   "source": [
    "train_batch_size = 100    #每批处理的训练集数据\n",
    "test_batch_size = 100     #每批处理的测试集数据\n",
    "learning_rate = 0.01      #学习率\n",
    "num_epoches = 50          #训练数据集的轮次\n",
    "gamma = 0.8               #学习率衰减因子"
   ]
  },
  {
   "cell_type": "code",
   "execution_count": 579,
   "metadata": {},
   "outputs": [],
   "source": [
    "train_x = np.load('train_x.npy')\n",
    "train_y = np.load('train_y.npy')\n",
    "test_x = np.load('test_x.npy')\n",
    "test_y = np.load('test_y.npy')"
   ]
  },
  {
   "cell_type": "code",
   "execution_count": 580,
   "metadata": {},
   "outputs": [
    {
     "data": {
      "text/plain": [
       "((784, 5000), (10, 5000))"
      ]
     },
     "execution_count": 580,
     "metadata": {},
     "output_type": "execute_result"
    }
   ],
   "source": [
    "train_x.shape, train_y.shape"
   ]
  },
  {
   "cell_type": "code",
   "execution_count": 581,
   "metadata": {},
   "outputs": [
    {
     "data": {
      "text/plain": [
       "((784, 5000), (10, 5000))"
      ]
     },
     "execution_count": 581,
     "metadata": {},
     "output_type": "execute_result"
    }
   ],
   "source": [
    "test_x.shape, test_y.shape"
   ]
  },
  {
   "cell_type": "code",
   "execution_count": 582,
   "metadata": {},
   "outputs": [
    {
     "data": {
      "text/plain": [
       "((784,), (10,))"
      ]
     },
     "execution_count": 582,
     "metadata": {},
     "output_type": "execute_result"
    }
   ],
   "source": [
    "train_x[:,0].shape,train_y[:,0].shape"
   ]
  },
  {
   "cell_type": "markdown",
   "metadata": {},
   "source": [
    "## 可视化输入图像 "
   ]
  },
  {
   "cell_type": "code",
   "execution_count": 583,
   "metadata": {},
   "outputs": [
    {
     "name": "stdout",
     "output_type": "stream",
     "text": [
      "label: 7\n"
     ]
    },
    {
     "data": {
      "image/png": "[encoded data removed]",
      "text/plain": [
       "<Figure size 432x288 with 1 Axes>"
      ]
     },
     "metadata": {
      "needs_background": "light"
     },
     "output_type": "display_data"
    }
   ],
   "source": [
    "index = np.random.randint(train_x.shape[1])\n",
    "img = train_x[:,index].reshape(28,28,1,order='C')\n",
    "plt.imshow(img, cmap='gray', vmin = 0, vmax = 255,interpolation='none')\n",
    "print('label:',np.argmax(train_y[:,index],axis=0))"
   ]
  },
  {
   "cell_type": "markdown",
   "metadata": {},
   "source": [
    "## 构建原始数据集"
   ]
  },
  {
   "cell_type": "code",
   "execution_count": 584,
   "metadata": {},
   "outputs": [],
   "source": [
    "transform = transforms.Compose([\n",
    "    transforms.ToTensor(),               # 归一化\n",
    "    transforms.Normalize((0.2,), (0.5,)),  # 标准化\n",
    "])"
   ]
  },
  {
   "cell_type": "code",
   "execution_count": 585,
   "metadata": {},
   "outputs": [],
   "source": [
    "train_dataset = []  # 训练集\n",
    "test_dataset = []   # 测试集\n",
    "for i in range(train_x.shape[1]):\n",
    "    img = train_x[:,i].reshape(28,28,1,order='C')\n",
    "    train_dataset.append([transform(img),np.argmax(train_y[:,i],axis=0)])\n",
    "for i in range(test_x.shape[1]):\n",
    "    img = test_x[:,i].reshape(28,28,1,order='C')\n",
    "    test_dataset.append([transform(img),np.argmax(test_y[:,i],axis=0)])"
   ]
  },
  {
   "cell_type": "code",
   "execution_count": 586,
   "metadata": {},
   "outputs": [],
   "source": [
    "#训练集\n",
    "train_loader = torch.utils.data.DataLoader(train_dataset, batch_size=train_batch_size, shuffle=True)\n",
    "#测试集\n",
    "test_loader = torch.utils.data.DataLoader(test_dataset, batch_size=test_batch_size, shuffle=False)"
   ]
  },
  {
   "cell_type": "code",
   "execution_count": 587,
   "metadata": {},
   "outputs": [
    {
     "data": {
      "text/plain": [
       "torch.Size([1, 28, 28])"
      ]
     },
     "execution_count": 587,
     "metadata": {},
     "output_type": "execute_result"
    }
   ],
   "source": [
    "train_loader.dataset[0][0].shape"
   ]
  },
  {
   "cell_type": "code",
   "execution_count": 588,
   "metadata": {},
   "outputs": [
    {
     "data": {
      "text/plain": [
       "12.0"
      ]
     },
     "execution_count": 588,
     "metadata": {},
     "output_type": "execute_result"
    }
   ],
   "source": [
    "def out(w,k,s,p):\n",
    "    return (w-k+2*p)/s+1\n",
    "out(3,3,1,0)"
   ]
  },
  {
   "cell_type": "markdown",
   "metadata": {},
   "source": [
    "# 定义网络结构"
   ]
  },
  {
   "cell_type": "code",
   "execution_count": 589,
   "metadata": {},
   "outputs": [],
   "source": [
    "class Net(nn.Module):\n",
    "    def __init__(self,num_classes=10):\n",
    "        super(Net,self).__init__()\n",
    "        self.features = nn.Sequential(  #打包\n",
    "            nn.Conv2d(1, 96, kernel_size=3, stride=1, padding=1),     # input[1, 28, 28]  output[, 28, 28] \n",
    "            nn.BatchNorm2d(96),\n",
    "            nn.ReLU(),      \n",
    "            nn.MaxPool2d(kernel_size=2),                              # output[, 14, 14] \n",
    "            nn.Conv2d(96, 168, kernel_size=3, stride=1, padding=0),    # output[, 12, 12]\n",
    "            nn.BatchNorm2d(168),\n",
    "            nn.ReLU(),\n",
    "            nn.MaxPool2d(kernel_size=2),                              # output[, 6, 6]\n",
    "            nn.Conv2d(168, 228, kernel_size=3, stride=1, padding=1),    # output[, 6, 6]\n",
    "            nn.BatchNorm2d(228),\n",
    "            nn.ReLU(),\n",
    "            nn.MaxPool2d(kernel_size=2)                    # output[, 3, 3]\n",
    "        )\n",
    "        self.classifier = nn.Sequential(\n",
    "            nn.Linear(228*3*3,4096),\n",
    "            nn.BatchNorm1d(4096),\n",
    "            nn.ReLU(),\n",
    "            nn.Linear(4096,256),\n",
    "            nn.BatchNorm1d(256),\n",
    "            nn.ReLU(),\n",
    "            nn.Linear(256,num_classes)\n",
    "        )\n",
    "    def forward(self,x):\n",
    "        x = self.features(x)\n",
    "        x = torch.flatten(x, start_dim=1) \n",
    "        x = self.classifier(x)\n",
    "        return x"
   ]
  },
  {
   "cell_type": "code",
   "execution_count": 590,
   "metadata": {},
   "outputs": [
    {
     "name": "stdout",
     "output_type": "stream",
     "text": [
      "Net(\n",
      "  (features): Sequential(\n",
      "    (0): Conv2d(1, 96, kernel_size=(3, 3), stride=(1, 1), padding=(1, 1))\n",
      "    (1): BatchNorm2d(96, eps=1e-05, momentum=0.1, affine=True, track_running_stats=True)\n",
      "    (2): ReLU()\n",
      "    (3): MaxPool2d(kernel_size=2, stride=2, padding=0, dilation=1, ceil_mode=False)\n",
      "    (4): Conv2d(96, 168, kernel_size=(3, 3), stride=(1, 1))\n",
      "    (5): BatchNorm2d(168, eps=1e-05, momentum=0.1, affine=True, track_running_stats=True)\n",
      "    (6): ReLU()\n",
      "    (7): MaxPool2d(kernel_size=2, stride=2, padding=0, dilation=1, ceil_mode=False)\n",
      "    (8): Conv2d(168, 228, kernel_size=(3, 3), stride=(1, 1), padding=(1, 1))\n",
      "    (9): BatchNorm2d(228, eps=1e-05, momentum=0.1, affine=True, track_running_stats=True)\n",
      "    (10): ReLU()\n",
      "    (11): MaxPool2d(kernel_size=2, stride=2, padding=0, dilation=1, ceil_mode=False)\n",
      "  )\n",
      "  (classifier): Sequential(\n",
      "    (0): Linear(in_features=2052, out_features=4096, bias=True)\n",
      "    (1): BatchNorm1d(4096, eps=1e-05, momentum=0.1, affine=True, track_running_stats=True)\n",
      "    (2): ReLU()\n",
      "    (3): Linear(in_features=4096, out_features=256, bias=True)\n",
      "    (4): BatchNorm1d(256, eps=1e-05, momentum=0.1, affine=True, track_running_stats=True)\n",
      "    (5): ReLU()\n",
      "    (6): Linear(in_features=256, out_features=10, bias=True)\n",
      "  )\n",
      ")\n"
     ]
    }
   ],
   "source": [
    "device = torch.device(\"cuda:0\" if torch.cuda.is_available() else \"cpu\")\n",
    "model = Net()\n",
    "model = model.to(device)\n",
    "print(model)"
   ]
  },
  {
   "cell_type": "code",
   "execution_count": 591,
   "metadata": {},
   "outputs": [],
   "source": [
    "# 损失器\n",
    "criterion = nn.CrossEntropyLoss().to(device)\n",
    "# 优化器\n",
    "optimizer = optim.SGD(model.parameters(), lr=learning_rate, momentum=0.9,weight_decay=0.0001)"
   ]
  },
  {
   "cell_type": "markdown",
   "metadata": {},
   "source": [
    "# 模型训练"
   ]
  },
  {
   "cell_type": "code",
   "execution_count": 592,
   "metadata": {},
   "outputs": [],
   "source": [
    "train_loss = []         \n",
    "test_loss = []\n",
    "train_acc  = []    \n",
    "test_acc  = []     "
   ]
  },
  {
   "cell_type": "code",
   "execution_count": 593,
   "metadata": {},
   "outputs": [
    {
     "name": "stdout",
     "output_type": "stream",
     "text": [
      "epoch: 1\n",
      "训练集上的损失：0.004\n",
      "训练集上的准确率：0.859\n",
      "测试集上的损失：0.005\n",
      "测试集上的准确率：0.820\n",
      "epoch: 2\n",
      "训练集上的损失：0.003\n",
      "训练集上的准确率：0.901\n",
      "测试集上的损失：0.005\n",
      "测试集上的准确率：0.840\n",
      "epoch: 3\n",
      "训练集上的损失：0.003\n",
      "训练集上的准确率：0.904\n",
      "测试集上的损失：0.005\n",
      "测试集上的准确率：0.829\n",
      "epoch: 4\n",
      "训练集上的损失：0.001\n",
      "训练集上的准确率：0.981\n",
      "测试集上的损失：0.004\n",
      "测试集上的准确率：0.873\n",
      "epoch: 5\n",
      "训练集上的损失：0.001\n",
      "训练集上的准确率：0.950\n",
      "测试集上的损失：0.005\n",
      "测试集上的准确率：0.843\n",
      "epoch: 6\n",
      "训练集上的损失：0.000\n",
      "训练集上的准确率：0.992\n",
      "测试集上的损失：0.004\n",
      "测试集上的准确率：0.879\n",
      "epoch: 7\n",
      "训练集上的损失：0.000\n",
      "训练集上的准确率：0.988\n",
      "测试集上的损失：0.004\n",
      "测试集上的准确率：0.870\n",
      "epoch: 8\n",
      "训练集上的损失：0.000\n",
      "训练集上的准确率：0.995\n",
      "测试集上的损失：0.004\n",
      "测试集上的准确率：0.875\n",
      "epoch: 9\n",
      "训练集上的损失：0.000\n",
      "训练集上的准确率：0.999\n",
      "测试集上的损失：0.004\n",
      "测试集上的准确率：0.882\n",
      "epoch: 10\n",
      "训练集上的损失：0.000\n",
      "训练集上的准确率：0.998\n",
      "测试集上的损失：0.004\n",
      "测试集上的准确率：0.876\n",
      "epoch: 11\n",
      "训练集上的损失：0.000\n",
      "训练集上的准确率：1.000\n",
      "测试集上的损失：0.004\n",
      "测试集上的准确率：0.884\n",
      "epoch: 12\n",
      "训练集上的损失：0.000\n",
      "训练集上的准确率：1.000\n",
      "测试集上的损失：0.004\n",
      "测试集上的准确率：0.884\n",
      "epoch: 13\n",
      "训练集上的损失：0.000\n",
      "训练集上的准确率：1.000\n",
      "测试集上的损失：0.004\n",
      "测试集上的准确率：0.888\n",
      "epoch: 14\n",
      "训练集上的损失：0.000\n",
      "训练集上的准确率：1.000\n",
      "测试集上的损失：0.004\n",
      "测试集上的准确率：0.887\n",
      "epoch: 15\n",
      "训练集上的损失：0.000\n",
      "训练集上的准确率：1.000\n",
      "测试集上的损失：0.004\n",
      "测试集上的准确率：0.888\n",
      "epoch: 16\n",
      "训练集上的损失：0.000\n",
      "训练集上的准确率：1.000\n",
      "测试集上的损失：0.004\n",
      "测试集上的准确率：0.886\n",
      "epoch: 17\n",
      "训练集上的损失：0.000\n",
      "训练集上的准确率：1.000\n",
      "测试集上的损失：0.004\n",
      "测试集上的准确率：0.886\n",
      "epoch: 18\n",
      "训练集上的损失：0.000\n",
      "训练集上的准确率：1.000\n",
      "测试集上的损失：0.004\n",
      "测试集上的准确率：0.887\n",
      "epoch: 19\n",
      "训练集上的损失：0.000\n",
      "训练集上的准确率：1.000\n",
      "测试集上的损失：0.004\n",
      "测试集上的准确率：0.887\n",
      "epoch: 20\n",
      "训练集上的损失：0.000\n",
      "训练集上的准确率：1.000\n",
      "测试集上的损失：0.004\n",
      "测试集上的准确率：0.889\n",
      "epoch: 21\n",
      "训练集上的损失：0.000\n",
      "训练集上的准确率：1.000\n",
      "测试集上的损失：0.004\n",
      "测试集上的准确率：0.889\n",
      "epoch: 22\n",
      "训练集上的损失：0.000\n",
      "训练集上的准确率：1.000\n",
      "测试集上的损失：0.004\n",
      "测试集上的准确率：0.890\n",
      "epoch: 23\n",
      "训练集上的损失：0.000\n",
      "训练集上的准确率：1.000\n",
      "测试集上的损失：0.004\n",
      "测试集上的准确率：0.888\n",
      "epoch: 24\n",
      "训练集上的损失：0.000\n",
      "训练集上的准确率：1.000\n",
      "测试集上的损失：0.004\n",
      "测试集上的准确率：0.888\n",
      "epoch: 25\n",
      "训练集上的损失：0.000\n",
      "训练集上的准确率：1.000\n",
      "测试集上的损失：0.004\n",
      "测试集上的准确率：0.889\n",
      "epoch: 26\n",
      "训练集上的损失：0.000\n",
      "训练集上的准确率：1.000\n",
      "测试集上的损失：0.004\n",
      "测试集上的准确率：0.890\n",
      "epoch: 27\n",
      "训练集上的损失：0.000\n",
      "训练集上的准确率：1.000\n",
      "测试集上的损失：0.004\n",
      "测试集上的准确率：0.888\n",
      "epoch: 28\n",
      "训练集上的损失：0.000\n",
      "训练集上的准确率：1.000\n",
      "测试集上的损失：0.004\n",
      "测试集上的准确率：0.888\n",
      "epoch: 29\n",
      "训练集上的损失：0.000\n",
      "训练集上的准确率：1.000\n",
      "测试集上的损失：0.004\n",
      "测试集上的准确率：0.889\n",
      "epoch: 30\n",
      "训练集上的损失：0.000\n",
      "训练集上的准确率：1.000\n",
      "测试集上的损失：0.004\n",
      "测试集上的准确率：0.889\n",
      "epoch: 31\n",
      "训练集上的损失：0.000\n",
      "训练集上的准确率：1.000\n",
      "测试集上的损失：0.004\n",
      "测试集上的准确率：0.888\n",
      "epoch: 32\n",
      "训练集上的损失：0.000\n",
      "训练集上的准确率：1.000\n",
      "测试集上的损失：0.004\n",
      "测试集上的准确率：0.888\n",
      "epoch: 33\n",
      "训练集上的损失：0.000\n",
      "训练集上的准确率：1.000\n",
      "测试集上的损失：0.004\n",
      "测试集上的准确率：0.887\n",
      "epoch: 34\n",
      "训练集上的损失：0.000\n",
      "训练集上的准确率：1.000\n",
      "测试集上的损失：0.004\n",
      "测试集上的准确率：0.888\n",
      "epoch: 35\n",
      "训练集上的损失：0.000\n",
      "训练集上的准确率：1.000\n",
      "测试集上的损失：0.004\n",
      "测试集上的准确率：0.889\n",
      "epoch: 36\n",
      "训练集上的损失：0.000\n",
      "训练集上的准确率：1.000\n",
      "测试集上的损失：0.004\n",
      "测试集上的准确率：0.888\n",
      "epoch: 37\n",
      "训练集上的损失：0.000\n",
      "训练集上的准确率：1.000\n",
      "测试集上的损失：0.004\n",
      "测试集上的准确率：0.888\n",
      "epoch: 38\n",
      "训练集上的损失：0.000\n",
      "训练集上的准确率：1.000\n",
      "测试集上的损失：0.004\n",
      "测试集上的准确率：0.889\n",
      "epoch: 39\n",
      "训练集上的损失：0.000\n",
      "训练集上的准确率：1.000\n",
      "测试集上的损失：0.004\n",
      "测试集上的准确率：0.888\n",
      "epoch: 40\n",
      "训练集上的损失：0.000\n",
      "训练集上的准确率：1.000\n",
      "测试集上的损失：0.004\n",
      "测试集上的准确率：0.889\n",
      "epoch: 41\n",
      "训练集上的损失：0.000\n",
      "训练集上的准确率：1.000\n",
      "测试集上的损失：0.004\n",
      "测试集上的准确率：0.890\n",
      "epoch: 42\n",
      "训练集上的损失：0.000\n",
      "训练集上的准确率：1.000\n",
      "测试集上的损失：0.004\n",
      "测试集上的准确率：0.889\n",
      "epoch: 43\n",
      "训练集上的损失：0.000\n",
      "训练集上的准确率：1.000\n",
      "测试集上的损失：0.004\n",
      "测试集上的准确率：0.889\n",
      "epoch: 44\n",
      "训练集上的损失：0.000\n",
      "训练集上的准确率：1.000\n",
      "测试集上的损失：0.004\n",
      "测试集上的准确率：0.889\n",
      "epoch: 45\n",
      "训练集上的损失：0.000\n",
      "训练集上的准确率：1.000\n",
      "测试集上的损失：0.004\n",
      "测试集上的准确率：0.889\n",
      "epoch: 46\n",
      "训练集上的损失：0.000\n",
      "训练集上的准确率：1.000\n",
      "测试集上的损失：0.004\n",
      "测试集上的准确率：0.889\n",
      "epoch: 47\n",
      "训练集上的损失：0.000\n",
      "训练集上的准确率：1.000\n",
      "测试集上的损失：0.004\n",
      "测试集上的准确率：0.888\n",
      "epoch: 48\n",
      "训练集上的损失：0.000\n",
      "训练集上的准确率：1.000\n",
      "测试集上的损失：0.004\n",
      "测试集上的准确率：0.889\n",
      "epoch: 49\n",
      "训练集上的损失：0.000\n",
      "训练集上的准确率：1.000\n",
      "测试集上的损失：0.004\n",
      "测试集上的准确率：0.889\n",
      "epoch: 50\n",
      "训练集上的损失：0.000\n",
      "训练集上的准确率：1.000\n",
      "测试集上的损失：0.004\n",
      "测试集上的准确率：0.889\n"
     ]
    }
   ],
   "source": [
    "for epoch in range(num_epoches):\n",
    "    print('epoch:',epoch+1)\n",
    "    if epoch % 20 == 0:\n",
    "        for p in optimizer.param_groups:\n",
    "            p['lr'] *= gamma      #学习率衰减\n",
    "            \n",
    "    model.train()\n",
    "    for _,data in enumerate(train_loader,0):\n",
    "        inputs, labels = data[0],data[1]\n",
    "        inputs = inputs.view(train_batch_size, 1, 28, 28)  \n",
    "        inputs, labels = inputs.to(device), labels.to(device)\n",
    "        optimizer.zero_grad() # 每次训练梯度清零\n",
    "        outputs = model(inputs.float())\n",
    "        loss = criterion(outputs, labels)\n",
    "        loss.backward()\n",
    "        optimizer.step()\n",
    "\n",
    "\n",
    "    model.eval()\n",
    "    running_loss = 0.0\n",
    "    correct = 0             \n",
    "    total = 0             \n",
    "    with torch.no_grad(): \n",
    "        for _,data in enumerate(train_loader,0):\n",
    "            inputs, labels = data\n",
    "            inputs = inputs.view(train_batch_size, 1, 28, 28)\n",
    "            inputs, labels = inputs.to(device), labels.to(device)\n",
    "            outputs = model(inputs.float())\n",
    "            loss = criterion(outputs, labels)\n",
    "            running_loss += loss.item()\n",
    "            _, pred = torch.max(outputs.data, 1)      # 选取最大概率的那个标签为预测结果\n",
    "            total += labels.size(0)                   # 总样本个数加 1\n",
    "            correct += (pred == labels).sum().item()  # 如果预测正确，correct加 1\n",
    "    train_loss.append(running_loss/total)\n",
    "    train_acc.append(correct / total)\n",
    "    print(\"训练集上的损失：%.3f\" % (running_loss / total))\n",
    "    print(\"训练集上的准确率：%.3f\" % (correct / total))\n",
    "\n",
    "    \n",
    "    model.eval()\n",
    "    running_loss = 0.0\n",
    "    correct = 0            \n",
    "    total = 0             \n",
    "    with torch.no_grad(): \n",
    "        for _,data in enumerate(test_loader,0):\n",
    "            inputs, labels = data\n",
    "            inputs = inputs.view(test_batch_size, 1, 28, 28)\n",
    "            inputs, labels = inputs.to(device), labels.to(device)\n",
    "            outputs = model(inputs.float())\n",
    "            loss = criterion(outputs, labels)\n",
    "            running_loss += loss.item()\n",
    "            _, pred = torch.max(outputs.data, 1)      # 选取最大概率的那个标签为预测结果\n",
    "            total += labels.size(0)                   # 总样本个数加 1\n",
    "            correct += (pred == labels).sum().item()  # 如果预测正确，correct加 1\n",
    "    test_loss.append(running_loss / total)\n",
    "    test_acc.append(correct / total)\n",
    "    print(\"测试集上的损失：%.3f\" % (running_loss / total))\n",
    "    print(\"测试集上的准确率：%.3f\" % (correct / total))\n",
    "\n",
    "    torch.save(model.state_dict(), f'./model/model_{epoch}.pkl')"
   ]
  },
  {
   "cell_type": "code",
   "execution_count": 594,
   "metadata": {},
   "outputs": [
    {
     "data": {
      "text/plain": [
       "<matplotlib.legend.Legend at 0x21dafd1cf70>"
      ]
     },
     "execution_count": 594,
     "metadata": {},
     "output_type": "execute_result"
    },
    {
     "data": {
      "image/png": "[encoded data removed]",
      "text/plain": [
       "<Figure size 432x288 with 1 Axes>"
      ]
     },
     "metadata": {
      "needs_background": "light"
     },
     "output_type": "display_data"
    }
   ],
   "source": [
    "plt.xlabel('epochs')\n",
    "plt.ylabel('loss')\n",
    "plt.plot(np.arange(len(train_loss)), train_loss)\n",
    "plt.plot(np.arange(len(test_loss)), test_loss)\n",
    "plt.legend(['Train Loss','Test Loss'])"
   ]
  },
  {
   "cell_type": "code",
   "execution_count": 595,
   "metadata": {},
   "outputs": [
    {
     "data": {
      "text/plain": [
       "<matplotlib.legend.Legend at 0x21d927a0e50>"
      ]
     },
     "execution_count": 595,
     "metadata": {},
     "output_type": "execute_result"
    },
    {
     "data": {
      "image/png": "[encoded data removed]",
      "text/plain": [
       "<Figure size 432x288 with 1 Axes>"
      ]
     },
     "metadata": {
      "needs_background": "light"
     },
     "output_type": "display_data"
    }
   ],
   "source": [
    "#准确率\n",
    "plt.xlabel('epochs')\n",
    "plt.ylabel('acc')\n",
    "plt.plot(np.arange(len(train_acc)), train_acc)\n",
    "plt.plot(np.arange(len(test_acc)), test_acc)\n",
    "plt.legend(['Train acc','Test acc'])"
   ]
  },
  {
   "cell_type": "code",
   "execution_count": 596,
   "metadata": {},
   "outputs": [
    {
     "name": "stdout",
     "output_type": "stream",
     "text": [
      "测试集最高准确率:  0.8902 \t索引: 40\n"
     ]
    }
   ],
   "source": [
    "max_index = test_acc.index(max(test_acc))\n",
    "print('测试集最高准确率: ', max(test_acc), '\\t索引:',max_index)"
   ]
  },
  {
   "cell_type": "code",
   "execution_count": 608,
   "metadata": {},
   "outputs": [
    {
     "data": {
      "text/plain": [
       "<All keys matched successfully>"
      ]
     },
     "execution_count": 608,
     "metadata": {},
     "output_type": "execute_result"
    }
   ],
   "source": [
    "device = torch.device(\"cuda:0\" if torch.cuda.is_available() else \"cpu\")\n",
    "model_new = Net().to(device)\n",
    "model_new.load_state_dict(torch.load(f'./model/model_{max_index}.pkl'))"
   ]
  },
  {
   "cell_type": "markdown",
   "metadata": {},
   "source": [
    "# 模型评估"
   ]
  },
  {
   "cell_type": "code",
   "execution_count": 598,
   "metadata": {},
   "outputs": [
    {
     "data": {
      "text/plain": [
       "(array([1, 1, 7, ..., 1, 2, 8]), array([2, 6, 7, ..., 6, 0, 7]))"
      ]
     },
     "execution_count": 598,
     "metadata": {},
     "output_type": "execute_result"
    }
   ],
   "source": [
    "train_pred = []\n",
    "test_pred = []\n",
    "model_new.eval()   \n",
    "train_loader = torch.utils.data.DataLoader(train_dataset, batch_size=train_batch_size, shuffle=False)  \n",
    "with torch.no_grad(): \n",
    "    for _,data in enumerate(train_loader,0):\n",
    "        inputs, labels = data\n",
    "        inputs = inputs.view(train_batch_size, 1, 28, 28)\n",
    "        inputs, labels = inputs.to(device), labels.to(device)\n",
    "        outputs = model_new(inputs.float())\n",
    "        _, pred = torch.max(outputs.data, 1)      \n",
    "        train_pred += pred.tolist()       \n",
    "with torch.no_grad(): \n",
    "    for _,data in enumerate(test_loader,0):\n",
    "        inputs, labels = data\n",
    "        inputs = inputs.view(test_batch_size, 1, 28, 28)\n",
    "        inputs, labels = inputs.to(device), labels.to(device)\n",
    "        outputs = model_new(inputs.float())\n",
    "        _, pred = torch.max(outputs.data, 1)      \n",
    "        test_pred += pred.tolist()\n",
    "train_pred = np.array(train_pred)\n",
    "test_pred = np.array(test_pred)\n",
    "train_pred,test_pred"
   ]
  },
  {
   "cell_type": "code",
   "execution_count": 599,
   "metadata": {},
   "outputs": [
    {
     "name": "stdout",
     "output_type": "stream",
     "text": [
      "              precision    recall  f1-score   support\n",
      "\n",
      "           0       1.00      1.00      1.00       448\n",
      "           1       1.00      1.00      1.00       508\n",
      "           2       1.00      1.00      1.00       538\n",
      "           3       1.00      1.00      1.00       533\n",
      "           4       1.00      1.00      1.00       498\n",
      "           5       1.00      1.00      1.00       499\n",
      "           6       1.00      1.00      1.00       463\n",
      "           7       1.00      1.00      1.00       524\n",
      "           8       1.00      1.00      1.00       500\n",
      "           9       1.00      1.00      1.00       489\n",
      "\n",
      "    accuracy                           1.00      5000\n",
      "   macro avg       1.00      1.00      1.00      5000\n",
      "weighted avg       1.00      1.00      1.00      5000\n",
      "\n"
     ]
    }
   ],
   "source": [
    "print(metrics.classification_report(np.argmax(train_y,axis=0),train_pred))"
   ]
  },
  {
   "cell_type": "code",
   "execution_count": 600,
   "metadata": {},
   "outputs": [
    {
     "name": "stdout",
     "output_type": "stream",
     "text": [
      "              precision    recall  f1-score   support\n",
      "\n",
      "           0       0.83      0.86      0.84       480\n",
      "           1       0.99      0.96      0.97       544\n",
      "           2       0.79      0.82      0.80       480\n",
      "           3       0.86      0.89      0.88       480\n",
      "           4       0.81      0.85      0.83       480\n",
      "           5       0.97      0.96      0.97       512\n",
      "           6       0.77      0.67      0.72       510\n",
      "           7       0.95      0.95      0.95       496\n",
      "           8       0.96      0.97      0.96       501\n",
      "           9       0.95      0.97      0.96       517\n",
      "\n",
      "    accuracy                           0.89      5000\n",
      "   macro avg       0.89      0.89      0.89      5000\n",
      "weighted avg       0.89      0.89      0.89      5000\n",
      "\n"
     ]
    }
   ],
   "source": [
    "print(metrics.classification_report(np.argmax(test_y,axis=0),test_pred))"
   ]
  },
  {
   "cell_type": "code",
   "execution_count": 601,
   "metadata": {},
   "outputs": [],
   "source": [
    "import itertools\n",
    "def plot_confusion_matrix(cm, classes, normalize=False, title='Confusion matrix', cmap=plt.cm.Blues):\n",
    "    \"\"\"\n",
    "    - cm : 计算出的混淆矩阵的值\n",
    "    - classes : 混淆矩阵中每一行每一列对应的列\n",
    "    - normalize : True:显示百分比, False:显示个数\n",
    "    \"\"\"\n",
    "    if normalize:\n",
    "        cm = cm.astype('float') / cm.sum(axis=1)[:, np.newaxis]\n",
    "        print(\"显示百分比：\")\n",
    "        np.set_printoptions(formatter={'float': '{: 0.2f}'.format})\n",
    "        print(cm)\n",
    "    else:\n",
    "        print('显示具体数字：')\n",
    "        print(cm)\n",
    "    plt.imshow(cm, interpolation='nearest', cmap=cmap)\n",
    "    plt.title(title)\n",
    "    plt.colorbar()\n",
    "    tick_marks = np.arange(len(classes))\n",
    "    plt.xticks(tick_marks, classes, rotation=45)\n",
    "    plt.yticks(tick_marks, classes)\n",
    "    # matplotlib版本问题，如果不加下面这行代码，则绘制的混淆矩阵上下只能显示一半，有的版本的matplotlib不需要下面的代码，分别试一下即可\n",
    "    plt.ylim(len(classes) - 0.5, -0.5)\n",
    "    fmt = '.2f' if normalize else 'd'\n",
    "    thresh = cm.max() / 2.\n",
    "    for i, j in itertools.product(range(cm.shape[0]), range(cm.shape[1])):\n",
    "        plt.text(j, i, format(cm[i, j], fmt),\n",
    "                 horizontalalignment=\"center\",\n",
    "                 color=\"white\" if cm[i, j] > thresh else \"black\")\n",
    "    plt.tight_layout()\n",
    "    plt.ylabel('True label')\n",
    "    plt.xlabel('Predicted label')\n",
    "    plt.show()"
   ]
  },
  {
   "cell_type": "code",
   "execution_count": 602,
   "metadata": {},
   "outputs": [
    {
     "name": "stdout",
     "output_type": "stream",
     "text": [
      "显示百分比：\n",
      "[[ 1.00  0.00  0.00  0.00  0.00  0.00  0.00  0.00  0.00  0.00]\n",
      " [ 0.00  1.00  0.00  0.00  0.00  0.00  0.00  0.00  0.00  0.00]\n",
      " [ 0.00  0.00  1.00  0.00  0.00  0.00  0.00  0.00  0.00  0.00]\n",
      " [ 0.00  0.00  0.00  1.00  0.00  0.00  0.00  0.00  0.00  0.00]\n",
      " [ 0.00  0.00  0.00  0.00  1.00  0.00  0.00  0.00  0.00  0.00]\n",
      " [ 0.00  0.00  0.00  0.00  0.00  1.00  0.00  0.00  0.00  0.00]\n",
      " [ 0.00  0.00  0.00  0.00  0.00  0.00  1.00  0.00  0.00  0.00]\n",
      " [ 0.00  0.00  0.00  0.00  0.00  0.00  0.00  1.00  0.00  0.00]\n",
      " [ 0.00  0.00  0.00  0.00  0.00  0.00  0.00  0.00  1.00  0.00]\n",
      " [ 0.00  0.00  0.00  0.00  0.00  0.00  0.00  0.00  0.00  1.00]]\n"
     ]
    },
    {
     "data": {
      "image/png": "[encoded data removed]",
      "text/plain": [
       "<Figure size 432x288 with 2 Axes>"
      ]
     },
     "metadata": {
      "needs_background": "light"
     },
     "output_type": "display_data"
    }
   ],
   "source": [
    "cm = metrics.confusion_matrix(np.argmax(train_y,axis=0),train_pred)\n",
    "plot_confusion_matrix(cm,range(10),normalize=True,title='train dataset confusion matrix')"
   ]
  },
  {
   "cell_type": "code",
   "execution_count": 603,
   "metadata": {},
   "outputs": [
    {
     "name": "stdout",
     "output_type": "stream",
     "text": [
      "显示百分比：\n",
      "[[ 0.86  0.00  0.02  0.03  0.00  0.00  0.08  0.00  0.01  0.00]\n",
      " [ 0.01  0.96  0.00  0.02  0.01  0.00  0.00  0.00  0.00  0.00]\n",
      " [ 0.01  0.00  0.82  0.02  0.08  0.00  0.07  0.00  0.00  0.00]\n",
      " [ 0.02  0.01  0.01  0.89  0.04  0.00  0.03  0.00  0.00  0.00]\n",
      " [ 0.00  0.00  0.08  0.03  0.85  0.00  0.04  0.00  0.00  0.00]\n",
      " [ 0.00  0.00  0.00  0.00  0.00  0.96  0.00  0.03  0.00  0.01]\n",
      " [ 0.12  0.00  0.09  0.03  0.07  0.00  0.67  0.00  0.02  0.00]\n",
      " [ 0.00  0.00  0.00  0.00  0.00  0.01  0.00  0.95  0.00  0.04]\n",
      " [ 0.00  0.00  0.00  0.01  0.00  0.00  0.00  0.00  0.97  0.00]\n",
      " [ 0.00  0.00  0.00  0.00  0.00  0.01  0.00  0.02  0.00  0.97]]\n"
     ]
    },
    {
     "data": {
      "image/png": "[encoded data removed]",
      "text/plain": [
       "<Figure size 432x288 with 2 Axes>"
      ]
     },
     "metadata": {
      "needs_background": "light"
     },
     "output_type": "display_data"
    }
   ],
   "source": [
    "cm = metrics.confusion_matrix(np.argmax(test_y,axis=0),test_pred)\n",
    "plot_confusion_matrix(cm,range(10),normalize=True,title='test dataset confusion matrix')"
   ]
  },
  {
   "cell_type": "markdown",
   "metadata": {},
   "source": [
    "# 汇报最终结果"
   ]
  },
  {
   "cell_type": "code",
   "execution_count": 618,
   "metadata": {},
   "outputs": [
    {
     "data": {
      "text/plain": [
       "array([9, 0, 6, ..., 7, 4, 0], dtype=int64)"
      ]
     },
     "execution_count": 618,
     "metadata": {},
     "output_type": "execute_result"
    }
   ],
   "source": [
    "device = torch.device(\"cuda:0\" if torch.cuda.is_available() else \"cpu\")\n",
    "model_new = Net().to(device)\n",
    "model_new.load_state_dict(torch.load(f'./model/model_{max_index}.pkl'))\n",
    "final_x = np.load('final_x.npy')\n",
    "final_pred = []\n",
    "model_new.eval()        \n",
    "with torch.no_grad(): \n",
    "    for i in range(final_x.shape[1]):\n",
    "        img = final_x[:,i].reshape(28,28,1,order='C')\n",
    "        img = transform(img)\n",
    "        img = img.view(1,-1,28,28).to(device)\n",
    "        output = model_new(img)\n",
    "        output = output.data.cpu().numpy()[0]       \n",
    "        final_pred.append(np.argmax(output))\n",
    "final_pred = np.array(final_pred)\n",
    "final_pred"
   ]
  },
  {
   "cell_type": "code",
   "execution_count": 619,
   "metadata": {},
   "outputs": [
    {
     "data": {
      "text/plain": [
       "(5000,)"
      ]
     },
     "execution_count": 619,
     "metadata": {},
     "output_type": "execute_result"
    }
   ],
   "source": [
    "final_pred = final_pred.reshape(1,5000)"
   ]
  },
  {
   "cell_type": "code",
   "execution_count": 624,
   "metadata": {},
   "outputs": [],
   "source": [
    "with open('group_14.npy','wb') as f:\n",
    "    np.save(f,final_pred)"
   ]
  },
  {
   "cell_type": "code",
   "execution_count": 11,
   "metadata": {},
   "outputs": [
    {
     "data": {
      "text/plain": [
       "(array([[9, 0, 6, ..., 7, 4, 0]], dtype=int64), (1, 5000))"
      ]
     },
     "execution_count": 11,
     "metadata": {},
     "output_type": "execute_result"
    }
   ],
   "source": [
    "data = np.load('group_14.npy')\n",
    "data,data.shape"
   ]
  },
  {
   "cell_type": "code",
   "execution_count": null,
   "metadata": {},
   "outputs": [],
   "source": []
  }
 ],
 "metadata": {
  "interpreter": {
   "hash": "6429919fe5eee10fa3db4376c75d0431aac4ee64633f3fde6de3e71a7b7c5c41"
  },
  "kernelspec": {
   "display_name": "Python 3.8.8 ('base')",
   "language": "python",
   "name": "python3"
  },
  "language_info": {
   "codemirror_mode": {
    "name": "ipython",
    "version": 3
   },
   "file_extension": ".py",
   "mimetype": "text/x-python",
   "name": "python",
   "nbconvert_exporter": "python",
   "pygments_lexer": "ipython3",
   "version": "3.8.8"
  },
  "orig_nbformat": 4
 },
 "nbformat": 4,
 "nbformat_minor": 2
}
