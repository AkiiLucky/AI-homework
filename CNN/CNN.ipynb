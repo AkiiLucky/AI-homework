{
 "cells": [
  {
   "cell_type": "code",
   "execution_count": 90,
   "metadata": {},
   "outputs": [],
   "source": [
    "import numpy as np\n",
    "import torch \n",
    "import torchvision\n",
    "import torchvision.transforms as transforms\n",
    "from torch.utils.data import DataLoader\n",
    "import torch.nn.functional as F\n",
    "import torch.optim as optim\n",
    "from torch import nn\n",
    "import numpy as np\n",
    "import matplotlib.pyplot as plt\n",
    "%matplotlib inline\n",
    "from sklearn import metrics"
   ]
  },
  {
   "cell_type": "markdown",
   "metadata": {},
   "source": [
    "## 定义超参数"
   ]
  },
  {
   "cell_type": "code",
   "execution_count": 91,
   "metadata": {},
   "outputs": [],
   "source": [
    "train_batch_size = 100    #每批处理的训练集数据\n",
    "test_batch_size = 100     #每批处理的测试集数据\n",
    "learning_rate = 0.001     #学习率\n",
    "num_epoches = 50          #训练数据集的轮次"
   ]
  },
  {
   "cell_type": "code",
   "execution_count": 92,
   "metadata": {},
   "outputs": [],
   "source": [
    "train_x = np.load('train_x.npy')\n",
    "train_y = np.load('train_y.npy')\n",
    "test_x = np.load('test_x.npy')\n",
    "test_y = np.load('test_y.npy')"
   ]
  },
  {
   "cell_type": "code",
   "execution_count": 93,
   "metadata": {},
   "outputs": [
    {
     "data": {
      "text/plain": [
       "((784, 5000), (10, 5000))"
      ]
     },
     "execution_count": 93,
     "metadata": {},
     "output_type": "execute_result"
    }
   ],
   "source": [
    "train_x.shape, train_y.shape"
   ]
  },
  {
   "cell_type": "code",
   "execution_count": 94,
   "metadata": {},
   "outputs": [
    {
     "data": {
      "text/plain": [
       "((784, 5000), (10, 5000))"
      ]
     },
     "execution_count": 94,
     "metadata": {},
     "output_type": "execute_result"
    }
   ],
   "source": [
    "test_x.shape, test_y.shape"
   ]
  },
  {
   "cell_type": "code",
   "execution_count": 95,
   "metadata": {},
   "outputs": [
    {
     "data": {
      "text/plain": [
       "((784,), (10,))"
      ]
     },
     "execution_count": 95,
     "metadata": {},
     "output_type": "execute_result"
    }
   ],
   "source": [
    "train_x[:,0].shape,train_y[:,0].shape"
   ]
  },
  {
   "cell_type": "markdown",
   "metadata": {},
   "source": [
    "## 可视化输入图像 "
   ]
  },
  {
   "cell_type": "code",
   "execution_count": 96,
   "metadata": {},
   "outputs": [
    {
     "name": "stdout",
     "output_type": "stream",
     "text": [
      "label: 9\n"
     ]
    },
    {
     "data": {
      "image/png": "[encoded data removed]",
      "text/plain": [
       "<Figure size 432x288 with 1 Axes>"
      ]
     },
     "metadata": {
      "needs_background": "light"
     },
     "output_type": "display_data"
    }
   ],
   "source": [
    "index = np.random.randint(train_x.shape[1])\n",
    "img = train_x[:,index].reshape(28,28,1,order='C')\n",
    "plt.imshow(img, cmap='gray', vmin = 0, vmax = 255,interpolation='none')\n",
    "print('label:',np.argmax(train_y[:,index],axis=0))"
   ]
  },
  {
   "cell_type": "markdown",
   "metadata": {},
   "source": [
    "## 构建原始数据集"
   ]
  },
  {
   "cell_type": "code",
   "execution_count": 97,
   "metadata": {},
   "outputs": [],
   "source": [
    "train_dataset = []  # 训练集\n",
    "test_dataset = []   # 测试集\n",
    "for i in range(train_x.shape[1]):\n",
    "    train_dataset.append([train_x[:,i].reshape(28,28,1,order='C'),np.argmax(train_y[:,i],axis=0)])\n",
    "for i in range(test_x.shape[1]):\n",
    "    test_dataset.append([test_x[:,i].reshape(28,28,1,order='C'),np.argmax(test_y[:,i],axis=0)])"
   ]
  },
  {
   "cell_type": "code",
   "execution_count": 98,
   "metadata": {},
   "outputs": [],
   "source": [
    "#训练集\n",
    "train_loader = torch.utils.data.DataLoader(train_dataset, batch_size=train_batch_size, shuffle=True)\n",
    "#测试集\n",
    "test_loader = torch.utils.data.DataLoader(test_dataset, batch_size=test_batch_size, shuffle=False)"
   ]
  },
  {
   "cell_type": "code",
   "execution_count": 99,
   "metadata": {},
   "outputs": [
    {
     "data": {
      "text/plain": [
       "(28, 28, 1)"
      ]
     },
     "execution_count": 99,
     "metadata": {},
     "output_type": "execute_result"
    }
   ],
   "source": [
    "train_loader.dataset[0][0].shape"
   ]
  },
  {
   "cell_type": "code",
   "execution_count": 100,
   "metadata": {},
   "outputs": [],
   "source": [
    "transform = transforms.Compose([\n",
    "    transforms.ToTensor(),                                               # 归一化\n",
    "    transforms.Normalize((0.485, 0.456, 0.406), (0.229, 0.224, 0.225)),  # 标准化\n",
    "])"
   ]
  },
  {
   "cell_type": "code",
   "execution_count": 101,
   "metadata": {},
   "outputs": [
    {
     "data": {
      "text/plain": [
       "6.0"
      ]
     },
     "execution_count": 101,
     "metadata": {},
     "output_type": "execute_result"
    }
   ],
   "source": [
    "def out(w,k,s,p):\n",
    "    return (w-k+2*p)/s+1\n",
    "out(6,3,1,1)"
   ]
  },
  {
   "cell_type": "markdown",
   "metadata": {},
   "source": [
    "# 定义网络结构"
   ]
  },
  {
   "cell_type": "code",
   "execution_count": 102,
   "metadata": {},
   "outputs": [],
   "source": [
    "class Net(nn.Module):\n",
    "    def __init__(self,num_classes=10):\n",
    "        super(Net,self).__init__()\n",
    "        self.features = nn.Sequential(  #打包\n",
    "            nn.Conv2d(1, 16, kernel_size=3, stride=1, padding=1),     # input[1, 28, 28]  output[16, 28, 28] \n",
    "            nn.ReLU(),      \n",
    "            nn.MaxPool2d(kernel_size=2),                              # output[16, 14, 14] \n",
    "            nn.Conv2d(16, 48, kernel_size=3, stride=1, padding=0),    # output[48, 12, 12]\n",
    "            nn.ReLU(),\n",
    "            nn.MaxPool2d(kernel_size=2),                              # output[48, 6, 6]\n",
    "            nn.Conv2d(48, 96, kernel_size=3, stride=1, padding=1),    # output[96, 6, 6]\n",
    "            nn.ReLU(),\n",
    "        )\n",
    "        self.classifier = nn.Sequential(\n",
    "            nn.Linear(96*6*6,1024),\n",
    "            nn.ReLU(),\n",
    "            nn.Linear(1024,128),\n",
    "            nn.ReLU(),\n",
    "            nn.Linear(128,num_classes),\n",
    "        )\n",
    "    def forward(self,x):\n",
    "        x = self.features(x)\n",
    "        x = torch.flatten(x, start_dim=1) \n",
    "        x = self.classifier(x)\n",
    "        return x"
   ]
  },
  {
   "cell_type": "code",
   "execution_count": 103,
   "metadata": {},
   "outputs": [
    {
     "name": "stdout",
     "output_type": "stream",
     "text": [
      "Net(\n",
      "  (features): Sequential(\n",
      "    (0): Conv2d(1, 16, kernel_size=(3, 3), stride=(1, 1), padding=(1, 1))\n",
      "    (1): ReLU()\n",
      "    (2): MaxPool2d(kernel_size=2, stride=2, padding=0, dilation=1, ceil_mode=False)\n",
      "    (3): Conv2d(16, 48, kernel_size=(3, 3), stride=(1, 1))\n",
      "    (4): ReLU()\n",
      "    (5): MaxPool2d(kernel_size=2, stride=2, padding=0, dilation=1, ceil_mode=False)\n",
      "    (6): Conv2d(48, 96, kernel_size=(3, 3), stride=(1, 1), padding=(1, 1))\n",
      "    (7): ReLU()\n",
      "  )\n",
      "  (classifier): Sequential(\n",
      "    (0): Linear(in_features=3456, out_features=1024, bias=True)\n",
      "    (1): ReLU()\n",
      "    (2): Linear(in_features=1024, out_features=128, bias=True)\n",
      "    (3): ReLU()\n",
      "    (4): Linear(in_features=128, out_features=10, bias=True)\n",
      "  )\n",
      ")\n"
     ]
    }
   ],
   "source": [
    "device = torch.device(\"cuda:0\" if torch.cuda.is_available() else \"cpu\")\n",
    "model = Net()\n",
    "model = model.to(device)\n",
    "print(model)"
   ]
  },
  {
   "cell_type": "code",
   "execution_count": 104,
   "metadata": {},
   "outputs": [],
   "source": [
    "# 损失器\n",
    "criterion = nn.CrossEntropyLoss().to(device)\n",
    "# 优化器\n",
    "optimizer = optim.SGD(model.parameters(), lr=learning_rate, momentum=0.9,weight_decay=0)"
   ]
  },
  {
   "cell_type": "markdown",
   "metadata": {},
   "source": [
    "# 模型训练"
   ]
  },
  {
   "cell_type": "code",
   "execution_count": 105,
   "metadata": {},
   "outputs": [],
   "source": [
    "train_loss = []         \n",
    "test_loss = []\n",
    "train_acc  = []    \n",
    "test_acc  = []     "
   ]
  },
  {
   "cell_type": "code",
   "execution_count": 106,
   "metadata": {},
   "outputs": [
    {
     "name": "stdout",
     "output_type": "stream",
     "text": [
      "epoch: 1\n",
      "训练集上的损失：0.006\n",
      "训练集上的准确率：0.783\n",
      "测试集上的损失：0.007\n",
      "测试集上的准确率：0.770\n",
      "epoch: 2\n",
      "训练集上的损失：0.006\n",
      "训练集上的准确率：0.786\n",
      "测试集上的损失：0.006\n",
      "测试集上的准确率：0.760\n",
      "epoch: 3\n",
      "训练集上的损失：0.004\n",
      "训练集上的准确率：0.848\n",
      "测试集上的损失：0.005\n",
      "测试集上的准确率：0.825\n",
      "epoch: 4\n",
      "训练集上的损失：0.004\n",
      "训练集上的准确率：0.847\n",
      "测试集上的损失：0.005\n",
      "测试集上的准确率：0.821\n",
      "epoch: 5\n",
      "训练集上的损失：0.004\n",
      "训练集上的准确率：0.863\n",
      "测试集上的损失：0.005\n",
      "测试集上的准确率：0.833\n",
      "epoch: 6\n",
      "训练集上的损失：0.003\n",
      "训练集上的准确率：0.887\n",
      "测试集上的损失：0.004\n",
      "测试集上的准确率：0.848\n",
      "epoch: 7\n",
      "训练集上的损失：0.003\n",
      "训练集上的准确率：0.886\n",
      "测试集上的损失：0.004\n",
      "测试集上的准确率：0.850\n",
      "epoch: 8\n",
      "训练集上的损失：0.003\n",
      "训练集上的准确率：0.907\n",
      "测试集上的损失：0.004\n",
      "测试集上的准确率：0.854\n",
      "epoch: 9\n",
      "训练集上的损失：0.003\n",
      "训练集上的准确率：0.881\n",
      "测试集上的损失：0.005\n",
      "测试集上的准确率：0.837\n",
      "epoch: 10\n",
      "训练集上的损失：0.002\n",
      "训练集上的准确率：0.917\n",
      "测试集上的损失：0.004\n",
      "测试集上的准确率：0.863\n",
      "epoch: 11\n",
      "训练集上的损失：0.002\n",
      "训练集上的准确率：0.920\n",
      "测试集上的损失：0.004\n",
      "测试集上的准确率：0.860\n",
      "epoch: 12\n",
      "训练集上的损失：0.002\n",
      "训练集上的准确率：0.934\n",
      "测试集上的损失：0.004\n",
      "测试集上的准确率：0.866\n",
      "epoch: 13\n",
      "训练集上的损失：0.002\n",
      "训练集上的准确率：0.939\n",
      "测试集上的损失：0.004\n",
      "测试集上的准确率：0.867\n",
      "epoch: 14\n",
      "训练集上的损失：0.002\n",
      "训练集上的准确率：0.940\n",
      "测试集上的损失：0.004\n",
      "测试集上的准确率：0.862\n",
      "epoch: 15\n",
      "训练集上的损失：0.002\n",
      "训练集上的准确率：0.945\n",
      "测试集上的损失：0.004\n",
      "测试集上的准确率：0.864\n",
      "epoch: 16\n",
      "训练集上的损失：0.002\n",
      "训练集上的准确率：0.944\n",
      "测试集上的损失：0.004\n",
      "测试集上的准确率：0.856\n",
      "epoch: 17\n",
      "训练集上的损失：0.001\n",
      "训练集上的准确率：0.963\n",
      "测试集上的损失：0.004\n",
      "测试集上的准确率：0.872\n",
      "epoch: 18\n",
      "训练集上的损失：0.002\n",
      "训练集上的准确率：0.927\n",
      "测试集上的损失：0.005\n",
      "测试集上的准确率：0.849\n",
      "epoch: 19\n",
      "训练集上的损失：0.001\n",
      "训练集上的准确率：0.967\n",
      "测试集上的损失：0.004\n",
      "测试集上的准确率：0.871\n",
      "epoch: 20\n",
      "训练集上的损失：0.001\n",
      "训练集上的准确率：0.964\n",
      "测试集上的损失：0.004\n",
      "测试集上的准确率：0.863\n",
      "epoch: 21\n",
      "训练集上的损失：0.001\n",
      "训练集上的准确率：0.959\n",
      "测试集上的损失：0.005\n",
      "测试集上的准确率：0.865\n",
      "epoch: 22\n",
      "训练集上的损失：0.001\n",
      "训练集上的准确率：0.982\n",
      "测试集上的损失：0.004\n",
      "测试集上的准确率：0.872\n",
      "epoch: 23\n",
      "训练集上的损失：0.001\n",
      "训练集上的准确率：0.975\n",
      "测试集上的损失：0.004\n",
      "测试集上的准确率：0.870\n",
      "epoch: 24\n",
      "训练集上的损失：0.001\n",
      "训练集上的准确率：0.979\n",
      "测试集上的损失：0.004\n",
      "测试集上的准确率：0.871\n",
      "epoch: 25\n",
      "训练集上的损失：0.001\n",
      "训练集上的准确率：0.945\n",
      "测试集上的损失：0.005\n",
      "测试集上的准确率：0.842\n",
      "epoch: 26\n",
      "训练集上的损失：0.001\n",
      "训练集上的准确率：0.987\n",
      "测试集上的损失：0.004\n",
      "测试集上的准确率：0.871\n",
      "epoch: 27\n",
      "训练集上的损失：0.001\n",
      "训练集上的准确率：0.970\n",
      "测试集上的损失：0.005\n",
      "测试集上的准确率：0.862\n",
      "epoch: 28\n",
      "训练集上的损失：0.000\n",
      "训练集上的准确率：0.991\n",
      "测试集上的损失：0.005\n",
      "测试集上的准确率：0.872\n",
      "epoch: 29\n",
      "训练集上的损失：0.000\n",
      "训练集上的准确率：0.994\n",
      "测试集上的损失：0.005\n",
      "测试集上的准确率：0.870\n",
      "epoch: 30\n",
      "训练集上的损失：0.000\n",
      "训练集上的准确率：0.989\n",
      "测试集上的损失：0.005\n",
      "测试集上的准确率：0.869\n",
      "epoch: 31\n",
      "训练集上的损失：0.000\n",
      "训练集上的准确率：0.997\n",
      "测试集上的损失：0.005\n",
      "测试集上的准确率：0.869\n",
      "epoch: 32\n",
      "训练集上的损失：0.000\n",
      "训练集上的准确率：0.998\n",
      "测试集上的损失：0.005\n",
      "测试集上的准确率：0.875\n",
      "epoch: 33\n",
      "训练集上的损失：0.000\n",
      "训练集上的准确率：0.997\n",
      "测试集上的损失：0.005\n",
      "测试集上的准确率：0.872\n",
      "epoch: 34\n",
      "训练集上的损失：0.000\n",
      "训练集上的准确率：0.998\n",
      "测试集上的损失：0.005\n",
      "测试集上的准确率：0.870\n",
      "epoch: 35\n",
      "训练集上的损失：0.000\n",
      "训练集上的准确率：0.983\n",
      "测试集上的损失：0.006\n",
      "测试集上的准确率：0.866\n",
      "epoch: 36\n",
      "训练集上的损失：0.000\n",
      "训练集上的准确率：0.999\n",
      "测试集上的损失：0.005\n",
      "测试集上的准确率：0.876\n",
      "epoch: 37\n",
      "训练集上的损失：0.000\n",
      "训练集上的准确率：0.998\n",
      "测试集上的损失：0.006\n",
      "测试集上的准确率：0.876\n",
      "epoch: 38\n",
      "训练集上的损失：0.000\n",
      "训练集上的准确率：0.995\n",
      "测试集上的损失：0.006\n",
      "测试集上的准确率：0.864\n",
      "epoch: 39\n",
      "训练集上的损失：0.000\n",
      "训练集上的准确率：1.000\n",
      "测试集上的损失：0.006\n",
      "测试集上的准确率：0.873\n",
      "epoch: 40\n",
      "训练集上的损失：0.000\n",
      "训练集上的准确率：1.000\n",
      "测试集上的损失：0.006\n",
      "测试集上的准确率：0.875\n",
      "epoch: 41\n",
      "训练集上的损失：0.000\n",
      "训练集上的准确率：1.000\n",
      "测试集上的损失：0.006\n",
      "测试集上的准确率：0.877\n",
      "epoch: 42\n",
      "训练集上的损失：0.000\n",
      "训练集上的准确率：1.000\n",
      "测试集上的损失：0.006\n",
      "测试集上的准确率：0.876\n",
      "epoch: 43\n",
      "训练集上的损失：0.000\n",
      "训练集上的准确率：1.000\n",
      "测试集上的损失：0.006\n",
      "测试集上的准确率：0.875\n",
      "epoch: 44\n",
      "训练集上的损失：0.000\n",
      "训练集上的准确率：1.000\n",
      "测试集上的损失：0.006\n",
      "测试集上的准确率：0.877\n",
      "epoch: 45\n",
      "训练集上的损失：0.000\n",
      "训练集上的准确率：1.000\n",
      "测试集上的损失：0.006\n",
      "测试集上的准确率：0.876\n",
      "epoch: 46\n",
      "训练集上的损失：0.000\n",
      "训练集上的准确率：1.000\n",
      "测试集上的损失：0.006\n",
      "测试集上的准确率：0.874\n",
      "epoch: 47\n",
      "训练集上的损失：0.000\n",
      "训练集上的准确率：1.000\n",
      "测试集上的损失：0.006\n",
      "测试集上的准确率：0.876\n",
      "epoch: 48\n",
      "训练集上的损失：0.000\n",
      "训练集上的准确率：1.000\n",
      "测试集上的损失：0.006\n",
      "测试集上的准确率：0.875\n",
      "epoch: 49\n",
      "训练集上的损失：0.000\n",
      "训练集上的准确率：1.000\n",
      "测试集上的损失：0.007\n",
      "测试集上的准确率：0.875\n",
      "epoch: 50\n",
      "训练集上的损失：0.000\n",
      "训练集上的准确率：1.000\n",
      "测试集上的损失：0.007\n",
      "测试集上的准确率：0.876\n"
     ]
    }
   ],
   "source": [
    "for epoch in range(num_epoches):\n",
    "    print('epoch:',epoch+1)\n",
    "\n",
    "    model.train()\n",
    "    for _,data in enumerate(train_loader,0):\n",
    "        inputs, labels = data[0],data[1]\n",
    "        inputs = inputs.view(train_batch_size, 1, 28, 28)  \n",
    "        inputs, labels = inputs.to(device), labels.to(device)\n",
    "        optimizer.zero_grad() # 每次训练梯度清零\n",
    "        outputs = model(inputs.float())\n",
    "        loss = criterion(outputs, labels)\n",
    "        loss.backward()\n",
    "        optimizer.step()\n",
    "\n",
    "\n",
    "    model.eval()\n",
    "    running_loss = 0.0\n",
    "    correct = 0             \n",
    "    total = 0             \n",
    "    with torch.no_grad(): \n",
    "        for _,data in enumerate(train_loader,0):\n",
    "            inputs, labels = data\n",
    "            inputs = inputs.view(test_batch_size, 1, 28, 28)\n",
    "            inputs, labels = inputs.to(device), labels.to(device)\n",
    "            outputs = model(inputs.float())\n",
    "            loss = criterion(outputs, labels)\n",
    "            running_loss += loss.item()\n",
    "            _, pred = torch.max(outputs.data, 1)      # 选取最大概率的那个标签为预测结果\n",
    "            total += labels.size(0)                   # 总样本个数加 1\n",
    "            correct += (pred == labels).sum().item()  # 如果预测正确，correct加 1\n",
    "    train_loss.append(running_loss/total)\n",
    "    train_acc.append(correct / total)\n",
    "    print(\"训练集上的损失：%.3f\" % (running_loss / total))\n",
    "    print(\"训练集上的准确率：%.3f\" % (correct / total))\n",
    "\n",
    "    \n",
    "    model.eval()\n",
    "    running_loss = 0.0\n",
    "    correct = 0            \n",
    "    total = 0             \n",
    "    with torch.no_grad(): \n",
    "        for _,data in enumerate(test_loader,0):\n",
    "            inputs, labels = data\n",
    "            inputs = inputs.view(test_batch_size, 1, 28, 28)\n",
    "            inputs, labels = inputs.to(device), labels.to(device)\n",
    "            outputs = model(inputs.float())\n",
    "            loss = criterion(outputs, labels)\n",
    "            running_loss += loss.item()\n",
    "            _, pred = torch.max(outputs.data, 1)      # 选取最大概率的那个标签为预测结果\n",
    "            total += labels.size(0)                   # 总样本个数加 1\n",
    "            correct += (pred == labels).sum().item()  # 如果预测正确，correct加 1\n",
    "    test_loss.append(running_loss / total)\n",
    "    test_acc.append(correct / total)\n",
    "    print(\"测试集上的损失：%.3f\" % (running_loss / total))\n",
    "    print(\"测试集上的准确率：%.3f\" % (correct / total))\n",
    "\n",
    "    torch.save(model.state_dict(), f'./model/model_{epoch}.pkl')"
   ]
  },
  {
   "cell_type": "code",
   "execution_count": 109,
   "metadata": {},
   "outputs": [
    {
     "data": {
      "text/plain": [
       "<matplotlib.legend.Legend at 0x2cd48bd8f70>"
      ]
     },
     "execution_count": 109,
     "metadata": {},
     "output_type": "execute_result"
    },
    {
     "data": {
      "image/png": "[encoded data removed]",
      "text/plain": [
       "<Figure size 432x288 with 1 Axes>"
      ]
     },
     "metadata": {
      "needs_background": "light"
     },
     "output_type": "display_data"
    }
   ],
   "source": [
    "plt.xlabel('epochs')\n",
    "plt.ylabel('loss')\n",
    "plt.plot(np.arange(len(train_loss)), train_loss)\n",
    "plt.plot(np.arange(len(test_loss)), test_loss)\n",
    "plt.legend(['Train Loss','Test Loss'])"
   ]
  },
  {
   "cell_type": "code",
   "execution_count": 110,
   "metadata": {},
   "outputs": [
    {
     "data": {
      "text/plain": [
       "<matplotlib.legend.Legend at 0x2cd04c8e100>"
      ]
     },
     "execution_count": 110,
     "metadata": {},
     "output_type": "execute_result"
    },
    {
     "data": {
      "image/png": "[encoded data removed]",
      "text/plain": [
       "<Figure size 432x288 with 1 Axes>"
      ]
     },
     "metadata": {
      "needs_background": "light"
     },
     "output_type": "display_data"
    }
   ],
   "source": [
    "#准确率\n",
    "plt.xlabel('epochs')\n",
    "plt.ylabel('acc')\n",
    "plt.plot(np.arange(len(train_acc)), train_acc)\n",
    "plt.plot(np.arange(len(test_acc)), test_acc)\n",
    "plt.legend(['Train acc','Test acc'])"
   ]
  },
  {
   "cell_type": "code",
   "execution_count": 111,
   "metadata": {},
   "outputs": [
    {
     "name": "stdout",
     "output_type": "stream",
     "text": [
      "测试集最高准确率:  0.8768 \t索引: 40\n"
     ]
    }
   ],
   "source": [
    "print('测试集最高准确率: ', max(test_acc), '\\t索引:',test_acc.index(max(test_acc)))"
   ]
  },
  {
   "cell_type": "code",
   "execution_count": 112,
   "metadata": {},
   "outputs": [],
   "source": [
    "torch.save(model.state_dict(), 'model.pkl')"
   ]
  },
  {
   "cell_type": "code",
   "execution_count": 113,
   "metadata": {},
   "outputs": [
    {
     "data": {
      "text/plain": [
       "<All keys matched successfully>"
      ]
     },
     "execution_count": 113,
     "metadata": {},
     "output_type": "execute_result"
    }
   ],
   "source": [
    "device = torch.device(\"cuda:0\" if torch.cuda.is_available() else \"cpu\")\n",
    "model_new = Net().to(device)\n",
    "model_new.load_state_dict(torch.load('model.pkl'))"
   ]
  },
  {
   "cell_type": "markdown",
   "metadata": {},
   "source": [
    "# 模型评估"
   ]
  },
  {
   "cell_type": "code",
   "execution_count": 114,
   "metadata": {},
   "outputs": [
    {
     "data": {
      "text/plain": [
       "(array([1, 1, 7, ..., 1, 2, 8]), array([2, 6, 7, ..., 6, 0, 7]))"
      ]
     },
     "execution_count": 114,
     "metadata": {},
     "output_type": "execute_result"
    }
   ],
   "source": [
    "train_pred = []\n",
    "test_pred = []\n",
    "model_new.eval()   \n",
    "train_loader = torch.utils.data.DataLoader(train_dataset, batch_size=train_batch_size, shuffle=False)  \n",
    "with torch.no_grad(): \n",
    "    for _,data in enumerate(train_loader,0):\n",
    "        inputs, labels = data\n",
    "        inputs = inputs.view(train_batch_size, 1, 28, 28)\n",
    "        inputs, labels = inputs.to(device), labels.to(device)\n",
    "        outputs = model_new(inputs.float())\n",
    "        _, pred = torch.max(outputs.data, 1)      \n",
    "        train_pred += pred.tolist()       \n",
    "with torch.no_grad(): \n",
    "    for _,data in enumerate(test_loader,0):\n",
    "        inputs, labels = data\n",
    "        inputs = inputs.view(test_batch_size, 1, 28, 28)\n",
    "        inputs, labels = inputs.to(device), labels.to(device)\n",
    "        outputs = model_new(inputs.float())\n",
    "        _, pred = torch.max(outputs.data, 1)      \n",
    "        test_pred += pred.tolist()\n",
    "train_pred = np.array(train_pred)\n",
    "test_pred = np.array(test_pred)\n",
    "train_pred,test_pred"
   ]
  },
  {
   "cell_type": "code",
   "execution_count": 115,
   "metadata": {},
   "outputs": [
    {
     "name": "stdout",
     "output_type": "stream",
     "text": [
      "              precision    recall  f1-score   support\n",
      "\n",
      "           0       1.00      1.00      1.00       448\n",
      "           1       1.00      1.00      1.00       508\n",
      "           2       1.00      1.00      1.00       538\n",
      "           3       1.00      1.00      1.00       533\n",
      "           4       1.00      1.00      1.00       498\n",
      "           5       1.00      1.00      1.00       499\n",
      "           6       1.00      1.00      1.00       463\n",
      "           7       1.00      1.00      1.00       524\n",
      "           8       1.00      1.00      1.00       500\n",
      "           9       1.00      1.00      1.00       489\n",
      "\n",
      "    accuracy                           1.00      5000\n",
      "   macro avg       1.00      1.00      1.00      5000\n",
      "weighted avg       1.00      1.00      1.00      5000\n",
      "\n"
     ]
    }
   ],
   "source": [
    "print(metrics.classification_report(np.argmax(train_y,axis=0),train_pred))"
   ]
  },
  {
   "cell_type": "code",
   "execution_count": 116,
   "metadata": {},
   "outputs": [
    {
     "name": "stdout",
     "output_type": "stream",
     "text": [
      "              precision    recall  f1-score   support\n",
      "\n",
      "           0       0.83      0.83      0.83       480\n",
      "           1       0.98      0.96      0.97       544\n",
      "           2       0.78      0.80      0.79       480\n",
      "           3       0.85      0.86      0.86       480\n",
      "           4       0.79      0.82      0.80       480\n",
      "           5       0.97      0.94      0.95       512\n",
      "           6       0.72      0.67      0.70       510\n",
      "           7       0.93      0.94      0.93       496\n",
      "           8       0.96      0.96      0.96       501\n",
      "           9       0.94      0.96      0.95       517\n",
      "\n",
      "    accuracy                           0.88      5000\n",
      "   macro avg       0.87      0.87      0.87      5000\n",
      "weighted avg       0.88      0.88      0.88      5000\n",
      "\n"
     ]
    }
   ],
   "source": [
    "print(metrics.classification_report(np.argmax(test_y,axis=0),test_pred))"
   ]
  },
  {
   "cell_type": "code",
   "execution_count": 121,
   "metadata": {},
   "outputs": [],
   "source": [
    "import itertools\n",
    "def plot_confusion_matrix(cm, classes, normalize=False, title='Confusion matrix', cmap=plt.cm.Blues):\n",
    "    \"\"\"\n",
    "    - cm : 计算出的混淆矩阵的值\n",
    "    - classes : 混淆矩阵中每一行每一列对应的列\n",
    "    - normalize : True:显示百分比, False:显示个数\n",
    "    \"\"\"\n",
    "    if normalize:\n",
    "        cm = cm.astype('float') / cm.sum(axis=1)[:, np.newaxis]\n",
    "        print(\"显示百分比：\")\n",
    "        np.set_printoptions(formatter={'float': '{: 0.2f}'.format})\n",
    "        print(cm)\n",
    "    else:\n",
    "        print('显示具体数字：')\n",
    "        print(cm)\n",
    "    plt.imshow(cm, interpolation='nearest', cmap=cmap)\n",
    "    plt.title(title)\n",
    "    plt.colorbar()\n",
    "    tick_marks = np.arange(len(classes))\n",
    "    plt.xticks(tick_marks, classes, rotation=45)\n",
    "    plt.yticks(tick_marks, classes)\n",
    "    # matplotlib版本问题，如果不加下面这行代码，则绘制的混淆矩阵上下只能显示一半，有的版本的matplotlib不需要下面的代码，分别试一下即可\n",
    "    plt.ylim(len(classes) - 0.5, -0.5)\n",
    "    fmt = '.2f' if normalize else 'd'\n",
    "    thresh = cm.max() / 2.\n",
    "    for i, j in itertools.product(range(cm.shape[0]), range(cm.shape[1])):\n",
    "        plt.text(j, i, format(cm[i, j], fmt),\n",
    "                 horizontalalignment=\"center\",\n",
    "                 color=\"white\" if cm[i, j] > thresh else \"black\")\n",
    "    plt.tight_layout()\n",
    "    plt.ylabel('True label')\n",
    "    plt.xlabel('Predicted label')\n",
    "    plt.show()"
   ]
  },
  {
   "cell_type": "code",
   "execution_count": 124,
   "metadata": {},
   "outputs": [
    {
     "name": "stdout",
     "output_type": "stream",
     "text": [
      "显示百分比：\n",
      "[[ 1.00  0.00  0.00  0.00  0.00  0.00  0.00  0.00  0.00  0.00]\n",
      " [ 0.00  1.00  0.00  0.00  0.00  0.00  0.00  0.00  0.00  0.00]\n",
      " [ 0.00  0.00  1.00  0.00  0.00  0.00  0.00  0.00  0.00  0.00]\n",
      " [ 0.00  0.00  0.00  1.00  0.00  0.00  0.00  0.00  0.00  0.00]\n",
      " [ 0.00  0.00  0.00  0.00  1.00  0.00  0.00  0.00  0.00  0.00]\n",
      " [ 0.00  0.00  0.00  0.00  0.00  1.00  0.00  0.00  0.00  0.00]\n",
      " [ 0.00  0.00  0.00  0.00  0.00  0.00  1.00  0.00  0.00  0.00]\n",
      " [ 0.00  0.00  0.00  0.00  0.00  0.00  0.00  1.00  0.00  0.00]\n",
      " [ 0.00  0.00  0.00  0.00  0.00  0.00  0.00  0.00  1.00  0.00]\n",
      " [ 0.00  0.00  0.00  0.00  0.00  0.00  0.00  0.00  0.00  1.00]]\n"
     ]
    },
    {
     "data": {
      "image/png": "[encoded data removed]",
      "text/plain": [
       "<Figure size 432x288 with 2 Axes>"
      ]
     },
     "metadata": {
      "needs_background": "light"
     },
     "output_type": "display_data"
    }
   ],
   "source": [
    "cm = metrics.confusion_matrix(np.argmax(train_y,axis=0),train_pred)\n",
    "plot_confusion_matrix(cm,range(10),normalize=True,title='train dataset confusion matrix')"
   ]
  },
  {
   "cell_type": "code",
   "execution_count": 125,
   "metadata": {},
   "outputs": [
    {
     "name": "stdout",
     "output_type": "stream",
     "text": [
      "显示百分比：\n",
      "[[ 0.83  0.01  0.02  0.03  0.00  0.00  0.09  0.00  0.02  0.00]\n",
      " [ 0.00  0.96  0.00  0.03  0.00  0.00  0.00  0.00  0.00  0.00]\n",
      " [ 0.01  0.00  0.80  0.01  0.09  0.00  0.08  0.00  0.00  0.00]\n",
      " [ 0.03  0.01  0.02  0.86  0.04  0.00  0.03  0.00  0.00  0.00]\n",
      " [ 0.00  0.00  0.09  0.03  0.82  0.00  0.06  0.00  0.00  0.00]\n",
      " [ 0.00  0.00  0.00  0.00  0.00  0.94  0.00  0.04  0.00  0.02]\n",
      " [ 0.11  0.00  0.08  0.03  0.09  0.00  0.67  0.00  0.01  0.00]\n",
      " [ 0.00  0.00  0.00  0.00  0.00  0.01  0.00  0.94  0.01  0.04]\n",
      " [ 0.00  0.00  0.00  0.01  0.00  0.00  0.01  0.00  0.96  0.00]\n",
      " [ 0.00  0.00  0.00  0.00  0.00  0.01  0.00  0.03  0.00  0.96]]\n"
     ]
    },
    {
     "data": {
      "image/png": "[encoded data removed]",
      "text/plain": [
       "<Figure size 432x288 with 2 Axes>"
      ]
     },
     "metadata": {
      "needs_background": "light"
     },
     "output_type": "display_data"
    }
   ],
   "source": [
    "cm = metrics.confusion_matrix(np.argmax(test_y,axis=0),test_pred)\n",
    "plot_confusion_matrix(cm,range(10),normalize=True,title='test dataset confusion matrix')"
   ]
  },
  {
   "cell_type": "code",
   "execution_count": null,
   "metadata": {},
   "outputs": [],
   "source": []
  }
 ],
 "metadata": {
  "interpreter": {
   "hash": "6429919fe5eee10fa3db4376c75d0431aac4ee64633f3fde6de3e71a7b7c5c41"
  },
  "kernelspec": {
   "display_name": "Python 3.8.8 ('base')",
   "language": "python",
   "name": "python3"
  },
  "language_info": {
   "codemirror_mode": {
    "name": "ipython",
    "version": 3
   },
   "file_extension": ".py",
   "mimetype": "text/x-python",
   "name": "python",
   "nbconvert_exporter": "python",
   "pygments_lexer": "ipython3",
   "version": "3.8.8"
  },
  "orig_nbformat": 4
 },
 "nbformat": 4,
 "nbformat_minor": 2
}
