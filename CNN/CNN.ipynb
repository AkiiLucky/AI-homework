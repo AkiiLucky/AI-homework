{
 "cells": [
  {
   "cell_type": "code",
   "execution_count": 41,
   "metadata": {},
   "outputs": [],
   "source": [
    "import numpy as np\n",
    "import torch \n",
    "import torchvision\n",
    "import torchvision.transforms as transforms\n",
    "from torch.utils.data import DataLoader\n",
    "import torch.nn.functional as F\n",
    "import torch.optim as optim\n",
    "from torch import nn\n",
    "import numpy as np\n",
    "import matplotlib.pyplot as plt\n",
    "%matplotlib inline"
   ]
  },
  {
   "cell_type": "markdown",
   "metadata": {},
   "source": [
    "## 定义超参数"
   ]
  },
  {
   "cell_type": "code",
   "execution_count": 42,
   "metadata": {},
   "outputs": [],
   "source": [
    "train_batch_size = 10    #每批处理的训练集数据\n",
    "test_batch_size = 10     #每批处理的测试集数据\n",
    "learning_rate = 0.001     #学习率\n",
    "num_epoches = 50          #训练数据集的轮次"
   ]
  },
  {
   "cell_type": "code",
   "execution_count": 43,
   "metadata": {},
   "outputs": [],
   "source": [
    "train_x = np.load('train_x.npy')\n",
    "train_y = np.load('train_y.npy')\n",
    "test_x = np.load('test_x.npy')\n",
    "test_y = np.load('test_y.npy')"
   ]
  },
  {
   "cell_type": "code",
   "execution_count": 44,
   "metadata": {},
   "outputs": [
    {
     "data": {
      "text/plain": [
       "((784, 5000), (10, 5000))"
      ]
     },
     "execution_count": 44,
     "metadata": {},
     "output_type": "execute_result"
    }
   ],
   "source": [
    "train_x.shape, train_y.shape"
   ]
  },
  {
   "cell_type": "code",
   "execution_count": 45,
   "metadata": {},
   "outputs": [
    {
     "data": {
      "text/plain": [
       "((784, 5000), (10, 5000))"
      ]
     },
     "execution_count": 45,
     "metadata": {},
     "output_type": "execute_result"
    }
   ],
   "source": [
    "test_x.shape, test_y.shape"
   ]
  },
  {
   "cell_type": "code",
   "execution_count": 46,
   "metadata": {},
   "outputs": [
    {
     "data": {
      "text/plain": [
       "((784,), (10,))"
      ]
     },
     "execution_count": 46,
     "metadata": {},
     "output_type": "execute_result"
    }
   ],
   "source": [
    "train_x[:,0].shape,train_y[:,0].shape"
   ]
  },
  {
   "cell_type": "markdown",
   "metadata": {},
   "source": [
    "## 可视化输入图像 "
   ]
  },
  {
   "cell_type": "code",
   "execution_count": 47,
   "metadata": {},
   "outputs": [
    {
     "name": "stdout",
     "output_type": "stream",
     "text": [
      "label: 5\n"
     ]
    },
    {
     "data": {
      "image/png": "[encoded data removed]",
      "text/plain": [
       "<Figure size 432x288 with 1 Axes>"
      ]
     },
     "metadata": {
      "needs_background": "light"
     },
     "output_type": "display_data"
    }
   ],
   "source": [
    "index = np.random.randint(train_x.shape[1])\n",
    "img = train_x[:,index].reshape(28,28,1,order='C')\n",
    "plt.imshow(img, cmap='gray', vmin = 0, vmax = 255,interpolation='none')\n",
    "print('label:',np.argmax(train_y[:,index],axis=0))"
   ]
  },
  {
   "cell_type": "markdown",
   "metadata": {},
   "source": [
    "## 构建原始数据集"
   ]
  },
  {
   "cell_type": "code",
   "execution_count": 48,
   "metadata": {},
   "outputs": [],
   "source": [
    "train_dataset = []  # 训练集\n",
    "test_dataset = []   # 测试集\n",
    "for i in range(train_x.shape[1]):\n",
    "    train_dataset.append([train_x[:,i].reshape(28,28,1,order='C'),np.argmax(train_y[:,i],axis=0)])\n",
    "for i in range(test_x.shape[1]):\n",
    "    test_dataset.append([test_x[:,i].reshape(28,28,1,order='C'),np.argmax(test_y[:,i],axis=0)])"
   ]
  },
  {
   "cell_type": "code",
   "execution_count": 49,
   "metadata": {},
   "outputs": [],
   "source": [
    "#训练集\n",
    "train_loader = torch.utils.data.DataLoader(train_dataset, batch_size=train_batch_size, shuffle=True)\n",
    "#测试集\n",
    "test_loader = torch.utils.data.DataLoader(test_dataset, batch_size=test_batch_size, shuffle=False)"
   ]
  },
  {
   "cell_type": "code",
   "execution_count": 50,
   "metadata": {},
   "outputs": [
    {
     "data": {
      "text/plain": [
       "(28, 28, 1)"
      ]
     },
     "execution_count": 50,
     "metadata": {},
     "output_type": "execute_result"
    }
   ],
   "source": [
    "train_loader.dataset[0][0].shape"
   ]
  },
  {
   "cell_type": "code",
   "execution_count": 51,
   "metadata": {},
   "outputs": [],
   "source": [
    "transform = transforms.Compose([\n",
    "    transforms.ToTensor(),                                               # 归一化\n",
    "    transforms.Normalize((0.485, 0.456, 0.406), (0.229, 0.224, 0.225)),  # 标准化\n",
    "])"
   ]
  },
  {
   "cell_type": "code",
   "execution_count": 52,
   "metadata": {},
   "outputs": [
    {
     "data": {
      "text/plain": [
       "6.0"
      ]
     },
     "execution_count": 52,
     "metadata": {},
     "output_type": "execute_result"
    }
   ],
   "source": [
    "def out(w,k,s,p):\n",
    "    return (w-k+2*p)/s+1\n",
    "out(6,3,1,1)"
   ]
  },
  {
   "cell_type": "code",
   "execution_count": 53,
   "metadata": {},
   "outputs": [],
   "source": [
    "class Net(nn.Module):\n",
    "    def __init__(self,num_classes=10):\n",
    "        super(Net,self).__init__()\n",
    "        self.features = nn.Sequential(  #打包\n",
    "            nn.Conv2d(1, 16, kernel_size=3, stride=1, padding=1),     # input[1, 28, 28]  output[16, 28, 28] \n",
    "            nn.ReLU(),      \n",
    "            nn.MaxPool2d(kernel_size=2),                              # output[16, 14, 14] \n",
    "            nn.Conv2d(16, 48, kernel_size=3, stride=1, padding=0),    # output[48, 12, 12]\n",
    "            nn.ReLU(),\n",
    "            nn.MaxPool2d(kernel_size=2),                              # output[48, 6, 6]\n",
    "            nn.Conv2d(48, 96, kernel_size=3, stride=1, padding=1),    # output[96, 6, 6]\n",
    "            nn.ReLU(),\n",
    "        )\n",
    "        self.classifier = nn.Sequential(\n",
    "            nn.Linear(96*6*6,1024),\n",
    "            nn.ReLU(),\n",
    "            nn.Linear(1024,128),\n",
    "            nn.ReLU(),\n",
    "            nn.Linear(128,num_classes),\n",
    "        )\n",
    "    def forward(self,x):\n",
    "        x = self.features(x)\n",
    "        x = torch.flatten(x, start_dim=1) \n",
    "        x = self.classifier(x)\n",
    "        return x"
   ]
  },
  {
   "cell_type": "code",
   "execution_count": 54,
   "metadata": {},
   "outputs": [
    {
     "name": "stdout",
     "output_type": "stream",
     "text": [
      "Net(\n",
      "  (features): Sequential(\n",
      "    (0): Conv2d(1, 16, kernel_size=(3, 3), stride=(1, 1), padding=(1, 1))\n",
      "    (1): ReLU()\n",
      "    (2): MaxPool2d(kernel_size=2, stride=2, padding=0, dilation=1, ceil_mode=False)\n",
      "    (3): Conv2d(16, 48, kernel_size=(3, 3), stride=(1, 1))\n",
      "    (4): ReLU()\n",
      "    (5): MaxPool2d(kernel_size=2, stride=2, padding=0, dilation=1, ceil_mode=False)\n",
      "    (6): Conv2d(48, 96, kernel_size=(3, 3), stride=(1, 1), padding=(1, 1))\n",
      "    (7): ReLU()\n",
      "  )\n",
      "  (classifier): Sequential(\n",
      "    (0): Linear(in_features=3456, out_features=1024, bias=True)\n",
      "    (1): ReLU()\n",
      "    (2): Linear(in_features=1024, out_features=128, bias=True)\n",
      "    (3): ReLU()\n",
      "    (4): Linear(in_features=128, out_features=10, bias=True)\n",
      "  )\n",
      ")\n"
     ]
    }
   ],
   "source": [
    "device = torch.device(\"cuda:0\" if torch.cuda.is_available() else \"cpu\")\n",
    "model = Net()\n",
    "model = model.to(device)\n",
    "print(model)"
   ]
  },
  {
   "cell_type": "code",
   "execution_count": 55,
   "metadata": {},
   "outputs": [],
   "source": [
    "# 损失器\n",
    "criterion = nn.CrossEntropyLoss().to(device)\n",
    "# 优化器\n",
    "optimizer = optim.SGD(model.parameters(), lr=learning_rate, momentum=0.9,weight_decay=0)"
   ]
  },
  {
   "cell_type": "code",
   "execution_count": 56,
   "metadata": {},
   "outputs": [],
   "source": [
    "train_loss = []         \n",
    "test_loss = []\n",
    "train_acc  = []    \n",
    "test_acc  = []     "
   ]
  },
  {
   "cell_type": "code",
   "execution_count": 57,
   "metadata": {},
   "outputs": [
    {
     "name": "stdout",
     "output_type": "stream",
     "text": [
      "epoch: 1\n",
      "训练集上的损失：0.058\n",
      "训练集上的准确率：0.775\n",
      "测试集上的损失：0.068\n",
      "测试集上的准确率：0.745\n",
      "epoch: 2\n",
      "训练集上的损失：0.039\n",
      "训练集上的准确率：0.864\n",
      "测试集上的损失：0.052\n",
      "测试集上的准确率：0.810\n",
      "epoch: 3\n",
      "训练集上的损失：0.030\n",
      "训练集上的准确率：0.898\n",
      "测试集上的损失：0.045\n",
      "测试集上的准确率：0.843\n",
      "epoch: 4\n",
      "训练集上的损失：0.022\n",
      "训练集上的准确率：0.915\n",
      "测试集上的损失：0.049\n",
      "测试集上的准确率：0.841\n",
      "epoch: 5\n",
      "训练集上的损失：0.015\n",
      "训练集上的准确率：0.953\n",
      "测试集上的损失：0.041\n",
      "测试集上的准确率：0.859\n",
      "epoch: 6\n",
      "训练集上的损失：0.016\n",
      "训练集上的准确率：0.942\n",
      "测试集上的损失：0.054\n",
      "测试集上的准确率：0.843\n",
      "epoch: 7\n",
      "训练集上的损失：0.010\n",
      "训练集上的准确率：0.964\n",
      "测试集上的损失：0.051\n",
      "测试集上的准确率：0.856\n",
      "epoch: 8\n",
      "训练集上的损失：0.011\n",
      "训练集上的准确率：0.954\n",
      "测试集上的损失：0.052\n",
      "测试集上的准确率：0.849\n",
      "epoch: 9\n",
      "训练集上的损失：0.006\n",
      "训练集上的准确率：0.984\n",
      "测试集上的损失：0.047\n",
      "测试集上的准确率：0.865\n",
      "epoch: 10\n",
      "训练集上的损失：0.006\n",
      "训练集上的准确率：0.984\n",
      "测试集上的损失：0.052\n",
      "测试集上的准确率：0.861\n",
      "epoch: 11\n",
      "训练集上的损失：0.005\n",
      "训练集上的准确率：0.983\n",
      "测试集上的损失：0.057\n",
      "测试集上的准确率：0.858\n",
      "epoch: 12\n",
      "训练集上的损失：0.003\n",
      "训练集上的准确率：0.990\n",
      "测试集上的损失：0.060\n",
      "测试集上的准确率：0.863\n",
      "epoch: 13\n",
      "训练集上的损失：0.002\n",
      "训练集上的准确率：0.992\n",
      "测试集上的损失：0.060\n",
      "测试集上的准确率：0.869\n",
      "epoch: 14\n",
      "训练集上的损失：0.003\n",
      "训练集上的准确率：0.990\n",
      "测试集上的损失：0.062\n",
      "测试集上的准确率：0.860\n",
      "epoch: 15\n",
      "训练集上的损失：0.006\n",
      "训练集上的准确率：0.984\n",
      "测试集上的损失：0.066\n",
      "测试集上的准确率：0.854\n",
      "epoch: 16\n",
      "训练集上的损失：0.001\n",
      "训练集上的准确率：0.996\n",
      "测试集上的损失：0.063\n",
      "测试集上的准确率：0.861\n",
      "epoch: 17\n",
      "训练集上的损失：0.004\n",
      "训练集上的准确率：0.985\n",
      "测试集上的损失：0.077\n",
      "测试集上的准确率：0.846\n",
      "epoch: 18\n",
      "训练集上的损失：0.001\n",
      "训练集上的准确率：0.996\n",
      "测试集上的损失：0.066\n",
      "测试集上的准确率：0.872\n",
      "epoch: 19\n",
      "训练集上的损失：0.000\n",
      "训练集上的准确率：1.000\n",
      "测试集上的损失：0.074\n",
      "测试集上的准确率：0.873\n",
      "epoch: 20\n",
      "训练集上的损失：0.000\n",
      "训练集上的准确率：1.000\n",
      "测试集上的损失：0.077\n",
      "测试集上的准确率：0.876\n",
      "epoch: 21\n",
      "训练集上的损失：0.000\n",
      "训练集上的准确率：1.000\n",
      "测试集上的损失：0.080\n",
      "测试集上的准确率：0.879\n",
      "epoch: 22\n",
      "训练集上的损失：0.000\n",
      "训练集上的准确率：1.000\n",
      "测试集上的损失：0.082\n",
      "测试集上的准确率：0.879\n",
      "epoch: 23\n",
      "训练集上的损失：0.000\n",
      "训练集上的准确率：1.000\n",
      "测试集上的损失：0.084\n",
      "测试集上的准确率：0.879\n",
      "epoch: 24\n",
      "训练集上的损失：0.000\n",
      "训练集上的准确率：1.000\n",
      "测试集上的损失：0.085\n",
      "测试集上的准确率：0.879\n",
      "epoch: 25\n",
      "训练集上的损失：0.000\n",
      "训练集上的准确率：1.000\n",
      "测试集上的损失：0.086\n",
      "测试集上的准确率：0.878\n",
      "epoch: 26\n",
      "训练集上的损失：0.000\n",
      "训练集上的准确率：1.000\n",
      "测试集上的损失：0.087\n",
      "测试集上的准确率：0.878\n",
      "epoch: 27\n",
      "训练集上的损失：0.000\n",
      "训练集上的准确率：1.000\n",
      "测试集上的损失：0.088\n",
      "测试集上的准确率：0.878\n",
      "epoch: 28\n",
      "训练集上的损失：0.000\n",
      "训练集上的准确率：1.000\n",
      "测试集上的损失：0.089\n",
      "测试集上的准确率：0.879\n",
      "epoch: 29\n",
      "训练集上的损失：0.000\n",
      "训练集上的准确率：1.000\n",
      "测试集上的损失：0.090\n",
      "测试集上的准确率：0.878\n",
      "epoch: 30\n",
      "训练集上的损失：0.000\n",
      "训练集上的准确率：1.000\n",
      "测试集上的损失：0.091\n",
      "测试集上的准确率：0.878\n",
      "epoch: 31\n",
      "训练集上的损失：0.000\n",
      "训练集上的准确率：1.000\n",
      "测试集上的损失：0.091\n",
      "测试集上的准确率：0.878\n",
      "epoch: 32\n",
      "训练集上的损失：0.000\n",
      "训练集上的准确率：1.000\n",
      "测试集上的损失：0.092\n",
      "测试集上的准确率：0.878\n",
      "epoch: 33\n",
      "训练集上的损失：0.000\n",
      "训练集上的准确率：1.000\n",
      "测试集上的损失：0.092\n",
      "测试集上的准确率：0.878\n",
      "epoch: 34\n",
      "训练集上的损失：0.000\n",
      "训练集上的准确率：1.000\n",
      "测试集上的损失：0.093\n",
      "测试集上的准确率：0.878\n",
      "epoch: 35\n",
      "训练集上的损失：0.000\n",
      "训练集上的准确率：1.000\n",
      "测试集上的损失：0.093\n",
      "测试集上的准确率：0.878\n",
      "epoch: 36\n",
      "训练集上的损失：0.000\n",
      "训练集上的准确率：1.000\n",
      "测试集上的损失：0.094\n",
      "测试集上的准确率：0.878\n",
      "epoch: 37\n",
      "训练集上的损失：0.000\n",
      "训练集上的准确率：1.000\n",
      "测试集上的损失：0.094\n",
      "测试集上的准确率：0.878\n",
      "epoch: 38\n",
      "训练集上的损失：0.000\n",
      "训练集上的准确率：1.000\n",
      "测试集上的损失：0.095\n",
      "测试集上的准确率：0.878\n",
      "epoch: 39\n",
      "训练集上的损失：0.000\n",
      "训练集上的准确率：1.000\n",
      "测试集上的损失：0.095\n",
      "测试集上的准确率：0.878\n",
      "epoch: 40\n",
      "训练集上的损失：0.000\n",
      "训练集上的准确率：1.000\n",
      "测试集上的损失：0.096\n",
      "测试集上的准确率：0.878\n",
      "epoch: 41\n",
      "训练集上的损失：0.000\n",
      "训练集上的准确率：1.000\n",
      "测试集上的损失：0.096\n",
      "测试集上的准确率：0.878\n",
      "epoch: 42\n",
      "训练集上的损失：0.000\n",
      "训练集上的准确率：1.000\n",
      "测试集上的损失：0.096\n",
      "测试集上的准确率：0.877\n",
      "epoch: 43\n",
      "训练集上的损失：0.000\n",
      "训练集上的准确率：1.000\n",
      "测试集上的损失：0.097\n",
      "测试集上的准确率：0.877\n",
      "epoch: 44\n",
      "训练集上的损失：0.000\n",
      "训练集上的准确率：1.000\n",
      "测试集上的损失：0.097\n",
      "测试集上的准确率：0.877\n",
      "epoch: 45\n",
      "训练集上的损失：0.000\n",
      "训练集上的准确率：1.000\n",
      "测试集上的损失：0.097\n",
      "测试集上的准确率：0.877\n",
      "epoch: 46\n",
      "训练集上的损失：0.000\n",
      "训练集上的准确率：1.000\n",
      "测试集上的损失：0.098\n",
      "测试集上的准确率：0.877\n",
      "epoch: 47\n",
      "训练集上的损失：0.000\n",
      "训练集上的准确率：1.000\n",
      "测试集上的损失：0.098\n",
      "测试集上的准确率：0.877\n",
      "epoch: 48\n",
      "训练集上的损失：0.000\n",
      "训练集上的准确率：1.000\n",
      "测试集上的损失：0.098\n",
      "测试集上的准确率：0.877\n",
      "epoch: 49\n",
      "训练集上的损失：0.000\n",
      "训练集上的准确率：1.000\n",
      "测试集上的损失：0.099\n",
      "测试集上的准确率：0.877\n",
      "epoch: 50\n",
      "训练集上的损失：0.000\n",
      "训练集上的准确率：1.000\n",
      "测试集上的损失：0.099\n",
      "测试集上的准确率：0.877\n"
     ]
    }
   ],
   "source": [
    "for epoch in range(num_epoches):\n",
    "    print('epoch:',epoch+1)\n",
    "\n",
    "    model.train()\n",
    "    for _,data in enumerate(train_loader,0):\n",
    "        inputs, labels = data[0],data[1]\n",
    "        inputs = inputs.view(train_batch_size, 1, 28, 28)  \n",
    "        inputs, labels = inputs.to(device), labels.to(device)\n",
    "        optimizer.zero_grad() # 每次训练梯度清零\n",
    "        outputs = model(inputs.float())\n",
    "        loss = criterion(outputs, labels)\n",
    "        loss.backward()\n",
    "        optimizer.step()\n",
    "\n",
    "\n",
    "    model.eval()\n",
    "    running_loss = 0.0\n",
    "    correct = 0             \n",
    "    total = 0             \n",
    "    with torch.no_grad(): \n",
    "        for _,data in enumerate(train_loader,0):\n",
    "            inputs, labels = data\n",
    "            inputs = inputs.view(test_batch_size, 1, 28, 28)\n",
    "            inputs, labels = inputs.to(device), labels.to(device)\n",
    "            outputs = model(inputs.float())\n",
    "            loss = criterion(outputs, labels)\n",
    "            running_loss += loss.item()\n",
    "            _, pred = torch.max(outputs.data, 1)      # 选取最大概率的那个标签为预测结果\n",
    "            total += labels.size(0)                   # 总样本个数加 1\n",
    "            correct += (pred == labels).sum().item()  # 如果预测正确，correct加 1\n",
    "    train_loss.append(running_loss/total)\n",
    "    train_acc.append(correct / total)\n",
    "    print(\"训练集上的损失：%.3f\" % (running_loss / total))\n",
    "    print(\"训练集上的准确率：%.3f\" % (correct / total))\n",
    "\n",
    "    \n",
    "    model.eval()\n",
    "    running_loss = 0.0\n",
    "    correct = 0            \n",
    "    total = 0             \n",
    "    with torch.no_grad(): \n",
    "        for _,data in enumerate(test_loader,0):\n",
    "            inputs, labels = data\n",
    "            inputs = inputs.view(test_batch_size, 1, 28, 28)\n",
    "            inputs, labels = inputs.to(device), labels.to(device)\n",
    "            outputs = model(inputs.float())\n",
    "            loss = criterion(outputs, labels)\n",
    "            running_loss += loss.item()\n",
    "            _, pred = torch.max(outputs.data, 1)      # 选取最大概率的那个标签为预测结果\n",
    "            total += labels.size(0)                   # 总样本个数加 1\n",
    "            correct += (pred == labels).sum().item()  # 如果预测正确，correct加 1\n",
    "    test_loss.append(running_loss / total)\n",
    "    test_acc.append(correct / total)\n",
    "    print(\"测试集上的损失：%.3f\" % (running_loss / total))\n",
    "    print(\"测试集上的准确率：%.3f\" % (correct / total))"
   ]
  },
  {
   "cell_type": "code",
   "execution_count": 58,
   "metadata": {},
   "outputs": [
    {
     "data": {
      "text/plain": [
       "<matplotlib.legend.Legend at 0x22161101f10>"
      ]
     },
     "execution_count": 58,
     "metadata": {},
     "output_type": "execute_result"
    },
    {
     "data": {
      "image/png": "[encoded data removed]",
      "text/plain": [
       "<Figure size 432x288 with 1 Axes>"
      ]
     },
     "metadata": {
      "needs_background": "light"
     },
     "output_type": "display_data"
    }
   ],
   "source": [
    "plt.xlabel('epochs')\n",
    "plt.ylabel('loss')\n",
    "plt.plot(np.arange(len(train_loss)), train_loss)\n",
    "plt.plot(np.arange(len(test_loss)), test_loss)\n",
    "plt.legend(['Train Loss','Test Loss'])"
   ]
  },
  {
   "cell_type": "code",
   "execution_count": 59,
   "metadata": {},
   "outputs": [
    {
     "data": {
      "text/plain": [
       "<matplotlib.legend.Legend at 0x22139c045b0>"
      ]
     },
     "execution_count": 59,
     "metadata": {},
     "output_type": "execute_result"
    },
    {
     "data": {
      "image/png": "[encoded data removed]",
      "text/plain": [
       "<Figure size 432x288 with 1 Axes>"
      ]
     },
     "metadata": {
      "needs_background": "light"
     },
     "output_type": "display_data"
    }
   ],
   "source": [
    "#准确率\n",
    "plt.xlabel('epochs')\n",
    "plt.ylabel('acc')\n",
    "plt.plot(np.arange(len(train_acc)), train_acc)\n",
    "plt.plot(np.arange(len(test_acc)), test_acc)\n",
    "plt.legend(['Train acc','Test acc'])"
   ]
  },
  {
   "cell_type": "code",
   "execution_count": 60,
   "metadata": {},
   "outputs": [
    {
     "name": "stdout",
     "output_type": "stream",
     "text": [
      "测试集最高准确率:  0.8794 \t索引: 21\n"
     ]
    }
   ],
   "source": [
    "print('测试集最高准确率: ', max(test_acc), '\\t索引:',test_acc.index(max(test_acc)))"
   ]
  }
 ],
 "metadata": {
  "interpreter": {
   "hash": "6429919fe5eee10fa3db4376c75d0431aac4ee64633f3fde6de3e71a7b7c5c41"
  },
  "kernelspec": {
   "display_name": "Python 3.8.8 ('base')",
   "language": "python",
   "name": "python3"
  },
  "language_info": {
   "codemirror_mode": {
    "name": "ipython",
    "version": 3
   },
   "file_extension": ".py",
   "mimetype": "text/x-python",
   "name": "python",
   "nbconvert_exporter": "python",
   "pygments_lexer": "ipython3",
   "version": "3.8.8"
  },
  "orig_nbformat": 4
 },
 "nbformat": 4,
 "nbformat_minor": 2
}
